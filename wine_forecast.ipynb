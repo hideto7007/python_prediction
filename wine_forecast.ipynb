{
 "cells": [
  {
   "cell_type": "code",
   "execution_count": 75,
   "metadata": {},
   "outputs": [],
   "source": [
    "import pandas as pd\n",
    "import numpy as np\n",
    "import matplotlib.pyplot as plt\n",
    "\n",
    "from sklearn.model_selection import train_test_split\n",
    "from sklearn.metrics import classification_report, accuracy_score, mean_squared_error\n",
    "from sklearn.preprocessing import StandardScaler\n",
    "\n",
    "\n",
    "import tensorflow as tf\n",
    "from tensorflow import keras\n",
    "from tensorflow.keras import layers\n",
    "from tensorflow.keras.layers import Dense, Activation, Conv2D, Flatten\n",
    "from tensorflow.keras.models import Sequential\n",
    "from tensorflow.keras.utils import to_categorical\n",
    "from tensorflow.keras import regularizers\n",
    "\n",
    "\n",
    "%matplotlib inline\n",
    "pd.options.display.max_columns = None"
   ]
  },
  {
   "cell_type": "markdown",
   "metadata": {},
   "source": [
    "fixed acidity: 酒石酸濃度\n",
    "volatile acidity: 酢酸濃度\n",
    "citric acid: クエン酸濃度\n",
    "residual sugar: 残糖濃度\n",
    "chlorides: 塩化ナトリウム濃度\n",
    "free sulfur dioxide: 遊離SO2（二酸化硫黄）濃度\n",
    "total sulfur dioxide:総SO2（二酸化硫黄）濃度\n",
    "density: 密度\n",
    "pH: 水素イオン濃度\n",
    "sulphates: 硫化カリウム濃度\n",
    "alcohol: アルコール度数\n",
    "quality: 評価"
   ]
  },
  {
   "cell_type": "code",
   "execution_count": 76,
   "metadata": {},
   "outputs": [
    {
     "data": {
      "text/html": [
       "<div>\n",
       "<style scoped>\n",
       "    .dataframe tbody tr th:only-of-type {\n",
       "        vertical-align: middle;\n",
       "    }\n",
       "\n",
       "    .dataframe tbody tr th {\n",
       "        vertical-align: top;\n",
       "    }\n",
       "\n",
       "    .dataframe thead th {\n",
       "        text-align: right;\n",
       "    }\n",
       "</style>\n",
       "<table border=\"1\" class=\"dataframe\">\n",
       "  <thead>\n",
       "    <tr style=\"text-align: right;\">\n",
       "      <th></th>\n",
       "      <th>fixed acidity;\"volatile acidity\";\"citric acid\";\"residual sugar\";\"chlorides\";\"free sulfur dioxide\";\"total sulfur dioxide\";\"density\";\"pH\";\"sulphates\";\"alcohol\";\"quality\"</th>\n",
       "    </tr>\n",
       "  </thead>\n",
       "  <tbody>\n",
       "    <tr>\n",
       "      <th>0</th>\n",
       "      <td>7.4;0.7;0;1.9;0.076;11;34;0.9978;3.51;0.56;9.4;5</td>\n",
       "    </tr>\n",
       "    <tr>\n",
       "      <th>1</th>\n",
       "      <td>7.8;0.88;0;2.6;0.098;25;67;0.9968;3.2;0.68;9.8;5</td>\n",
       "    </tr>\n",
       "    <tr>\n",
       "      <th>2</th>\n",
       "      <td>7.8;0.76;0.04;2.3;0.092;15;54;0.997;3.26;0.65;...</td>\n",
       "    </tr>\n",
       "    <tr>\n",
       "      <th>3</th>\n",
       "      <td>11.2;0.28;0.56;1.9;0.075;17;60;0.998;3.16;0.58...</td>\n",
       "    </tr>\n",
       "    <tr>\n",
       "      <th>4</th>\n",
       "      <td>7.4;0.7;0;1.9;0.076;11;34;0.9978;3.51;0.56;9.4;5</td>\n",
       "    </tr>\n",
       "  </tbody>\n",
       "</table>\n",
       "</div>"
      ],
      "text/plain": [
       "  fixed acidity;\"volatile acidity\";\"citric acid\";\"residual sugar\";\"chlorides\";\"free sulfur dioxide\";\"total sulfur dioxide\";\"density\";\"pH\";\"sulphates\";\"alcohol\";\"quality\"\n",
       "0   7.4;0.7;0;1.9;0.076;11;34;0.9978;3.51;0.56;9.4;5                                                                                                                     \n",
       "1   7.8;0.88;0;2.6;0.098;25;67;0.9968;3.2;0.68;9.8;5                                                                                                                     \n",
       "2  7.8;0.76;0.04;2.3;0.092;15;54;0.997;3.26;0.65;...                                                                                                                     \n",
       "3  11.2;0.28;0.56;1.9;0.075;17;60;0.998;3.16;0.58...                                                                                                                     \n",
       "4   7.4;0.7;0;1.9;0.076;11;34;0.9978;3.51;0.56;9.4;5                                                                                                                     "
      ]
     },
     "execution_count": 76,
     "metadata": {},
     "output_type": "execute_result"
    }
   ],
   "source": [
    "wine = pd.read_csv(\"wine.csv\")\n",
    "wine.head()"
   ]
  },
  {
   "cell_type": "code",
   "execution_count": 77,
   "metadata": {},
   "outputs": [
    {
     "data": {
      "text/html": [
       "<div>\n",
       "<style scoped>\n",
       "    .dataframe tbody tr th:only-of-type {\n",
       "        vertical-align: middle;\n",
       "    }\n",
       "\n",
       "    .dataframe tbody tr th {\n",
       "        vertical-align: top;\n",
       "    }\n",
       "\n",
       "    .dataframe thead th {\n",
       "        text-align: right;\n",
       "    }\n",
       "</style>\n",
       "<table border=\"1\" class=\"dataframe\">\n",
       "  <thead>\n",
       "    <tr style=\"text-align: right;\">\n",
       "      <th></th>\n",
       "      <th>fixed acidity</th>\n",
       "      <th>volatile acidity</th>\n",
       "      <th>citric acid</th>\n",
       "      <th>residual sugar</th>\n",
       "      <th>chlorides</th>\n",
       "      <th>free sulfur dioxide</th>\n",
       "      <th>total sulfur dioxide</th>\n",
       "      <th>density</th>\n",
       "      <th>pH</th>\n",
       "      <th>sulphates</th>\n",
       "      <th>alcohol</th>\n",
       "      <th>quality</th>\n",
       "    </tr>\n",
       "  </thead>\n",
       "  <tbody>\n",
       "    <tr>\n",
       "      <th>0</th>\n",
       "      <td>7.4</td>\n",
       "      <td>0.70</td>\n",
       "      <td>0.00</td>\n",
       "      <td>1.9</td>\n",
       "      <td>0.076</td>\n",
       "      <td>11.0</td>\n",
       "      <td>34.0</td>\n",
       "      <td>0.9978</td>\n",
       "      <td>3.51</td>\n",
       "      <td>0.56</td>\n",
       "      <td>9.4</td>\n",
       "      <td>5</td>\n",
       "    </tr>\n",
       "    <tr>\n",
       "      <th>1</th>\n",
       "      <td>7.8</td>\n",
       "      <td>0.88</td>\n",
       "      <td>0.00</td>\n",
       "      <td>2.6</td>\n",
       "      <td>0.098</td>\n",
       "      <td>25.0</td>\n",
       "      <td>67.0</td>\n",
       "      <td>0.9968</td>\n",
       "      <td>3.20</td>\n",
       "      <td>0.68</td>\n",
       "      <td>9.8</td>\n",
       "      <td>5</td>\n",
       "    </tr>\n",
       "    <tr>\n",
       "      <th>2</th>\n",
       "      <td>7.8</td>\n",
       "      <td>0.76</td>\n",
       "      <td>0.04</td>\n",
       "      <td>2.3</td>\n",
       "      <td>0.092</td>\n",
       "      <td>15.0</td>\n",
       "      <td>54.0</td>\n",
       "      <td>0.9970</td>\n",
       "      <td>3.26</td>\n",
       "      <td>0.65</td>\n",
       "      <td>9.8</td>\n",
       "      <td>5</td>\n",
       "    </tr>\n",
       "    <tr>\n",
       "      <th>3</th>\n",
       "      <td>11.2</td>\n",
       "      <td>0.28</td>\n",
       "      <td>0.56</td>\n",
       "      <td>1.9</td>\n",
       "      <td>0.075</td>\n",
       "      <td>17.0</td>\n",
       "      <td>60.0</td>\n",
       "      <td>0.9980</td>\n",
       "      <td>3.16</td>\n",
       "      <td>0.58</td>\n",
       "      <td>9.8</td>\n",
       "      <td>6</td>\n",
       "    </tr>\n",
       "    <tr>\n",
       "      <th>4</th>\n",
       "      <td>7.4</td>\n",
       "      <td>0.70</td>\n",
       "      <td>0.00</td>\n",
       "      <td>1.9</td>\n",
       "      <td>0.076</td>\n",
       "      <td>11.0</td>\n",
       "      <td>34.0</td>\n",
       "      <td>0.9978</td>\n",
       "      <td>3.51</td>\n",
       "      <td>0.56</td>\n",
       "      <td>9.4</td>\n",
       "      <td>5</td>\n",
       "    </tr>\n",
       "  </tbody>\n",
       "</table>\n",
       "</div>"
      ],
      "text/plain": [
       "   fixed acidity  volatile acidity  citric acid  residual sugar  chlorides  \\\n",
       "0            7.4              0.70         0.00             1.9      0.076   \n",
       "1            7.8              0.88         0.00             2.6      0.098   \n",
       "2            7.8              0.76         0.04             2.3      0.092   \n",
       "3           11.2              0.28         0.56             1.9      0.075   \n",
       "4            7.4              0.70         0.00             1.9      0.076   \n",
       "\n",
       "   free sulfur dioxide  total sulfur dioxide  density    pH  sulphates  \\\n",
       "0                 11.0                  34.0   0.9978  3.51       0.56   \n",
       "1                 25.0                  67.0   0.9968  3.20       0.68   \n",
       "2                 15.0                  54.0   0.9970  3.26       0.65   \n",
       "3                 17.0                  60.0   0.9980  3.16       0.58   \n",
       "4                 11.0                  34.0   0.9978  3.51       0.56   \n",
       "\n",
       "   alcohol  quality  \n",
       "0      9.4        5  \n",
       "1      9.8        5  \n",
       "2      9.8        5  \n",
       "3      9.8        6  \n",
       "4      9.4        5  "
      ]
     },
     "execution_count": 77,
     "metadata": {},
     "output_type": "execute_result"
    }
   ],
   "source": [
    "# sep=\";\", header=0を入れる事で1行にまとまっていた数値を各列に移し替えることが出来る\n",
    "\n",
    "wine = pd.read_csv(\"wine.csv\", sep=\";\",header=0) \n",
    "wine.head()"
   ]
  },
  {
   "cell_type": "code",
   "execution_count": 78,
   "metadata": {},
   "outputs": [
    {
     "name": "stdout",
     "output_type": "stream",
     "text": [
      "<class 'pandas.core.frame.DataFrame'>\n",
      "RangeIndex: 1599 entries, 0 to 1598\n",
      "Data columns (total 12 columns):\n",
      " #   Column                Non-Null Count  Dtype  \n",
      "---  ------                --------------  -----  \n",
      " 0   fixed acidity         1599 non-null   float64\n",
      " 1   volatile acidity      1599 non-null   float64\n",
      " 2   citric acid           1599 non-null   float64\n",
      " 3   residual sugar        1599 non-null   float64\n",
      " 4   chlorides             1599 non-null   float64\n",
      " 5   free sulfur dioxide   1599 non-null   float64\n",
      " 6   total sulfur dioxide  1599 non-null   float64\n",
      " 7   density               1599 non-null   float64\n",
      " 8   pH                    1599 non-null   float64\n",
      " 9   sulphates             1599 non-null   float64\n",
      " 10  alcohol               1599 non-null   float64\n",
      " 11  quality               1599 non-null   int64  \n",
      "dtypes: float64(11), int64(1)\n",
      "memory usage: 150.0 KB\n"
     ]
    }
   ],
   "source": [
    "wine.info()"
   ]
  },
  {
   "cell_type": "code",
   "execution_count": 79,
   "metadata": {},
   "outputs": [
    {
     "name": "stdout",
     "output_type": "stream",
     "text": [
      "(1599, 12)\n"
     ]
    }
   ],
   "source": [
    "print(wine.shape)"
   ]
  },
  {
   "cell_type": "code",
   "execution_count": 80,
   "metadata": {},
   "outputs": [],
   "source": [
    "X = wine[[\"fixed acidity\", \"volatile acidity\", \"citric acid\", \"residual sugar\", \"chlorides\", \"density\", \"pH\", \"sulphates\", \"quality\"]]\n",
    "Y = wine[\"quality\"]"
   ]
  },
  {
   "cell_type": "code",
   "execution_count": 81,
   "metadata": {},
   "outputs": [
    {
     "name": "stdout",
     "output_type": "stream",
     "text": [
      "(1599, 9)\n",
      "(1599,)\n"
     ]
    }
   ],
   "source": [
    "print(X.shape)\n",
    "print(Y.shape)"
   ]
  },
  {
   "cell_type": "code",
   "execution_count": 82,
   "metadata": {},
   "outputs": [
    {
     "data": {
      "text/plain": [
       "(1599, 9)"
      ]
     },
     "execution_count": 82,
     "metadata": {},
     "output_type": "execute_result"
    }
   ],
   "source": [
    "Y2 = to_categorical(Y)\n",
    "Y2.shape"
   ]
  },
  {
   "cell_type": "code",
   "execution_count": 83,
   "metadata": {},
   "outputs": [
    {
     "name": "stdout",
     "output_type": "stream",
     "text": [
      "(1599, 9)\n",
      "(1599, 9)\n"
     ]
    }
   ],
   "source": [
    "print(X.shape)\n",
    "print(Y2.shape)"
   ]
  },
  {
   "cell_type": "code",
   "execution_count": 84,
   "metadata": {},
   "outputs": [],
   "source": [
    "X_train, X_test, Y_train, Y_test = train_test_split(X, Y2, test_size=0.3, random_state=0)\n",
    "X_train, X_valid, Y_train, Y_valid= train_test_split(X_train, Y_train, test_size=0.3, random_state=0)"
   ]
  },
  {
   "cell_type": "code",
   "execution_count": 85,
   "metadata": {},
   "outputs": [
    {
     "name": "stdout",
     "output_type": "stream",
     "text": [
      "Y_train= (783, 9) X_train= (783, 9)\n",
      "Y_test= (480, 9) X_test= (480, 9)\n",
      "Y_valid= (336, 9) X_valid= (336, 9)\n"
     ]
    }
   ],
   "source": [
    "print(\"Y_train=\", Y_train.shape, \"X_train=\", X_train.shape)\n",
    "print(\"Y_test=\", Y_test.shape, \"X_test=\", X_test.shape)\n",
    "print(\"Y_valid=\", Y_valid.shape, \"X_valid=\", X_valid.shape)"
   ]
  },
  {
   "cell_type": "code",
   "execution_count": 86,
   "metadata": {},
   "outputs": [],
   "source": [
    "model = keras.Sequential()\n",
    "\n",
    "model.add(Dense(128, activation='relu', input_shape=(9, )))\n",
    "\n",
    "model.add(Dense(64, activation='relu'))\n",
    "\n",
    "model.add(Dense(32, activation='relu'))\n",
    "\n",
    "model.add(Dense(16, activation='relu'))\n",
    "\n",
    "model.add(Dense(9, activation='sigmoid'))\n",
    "\n",
    "model.compile(optimizer = \"rmsprop\", loss='binary_crossentropy', metrics=['accuracy'])"
   ]
  },
  {
   "cell_type": "code",
   "execution_count": 87,
   "metadata": {},
   "outputs": [
    {
     "name": "stdout",
     "output_type": "stream",
     "text": [
      "Model: \"sequential_4\"\n",
      "_________________________________________________________________\n",
      "Layer (type)                 Output Shape              Param #   \n",
      "=================================================================\n",
      "dense_13 (Dense)             (None, 128)               1280      \n",
      "_________________________________________________________________\n",
      "dense_14 (Dense)             (None, 64)                8256      \n",
      "_________________________________________________________________\n",
      "dense_15 (Dense)             (None, 32)                2080      \n",
      "_________________________________________________________________\n",
      "dense_16 (Dense)             (None, 16)                528       \n",
      "_________________________________________________________________\n",
      "dense_17 (Dense)             (None, 9)                 153       \n",
      "=================================================================\n",
      "Total params: 12,297\n",
      "Trainable params: 12,297\n",
      "Non-trainable params: 0\n",
      "_________________________________________________________________\n"
     ]
    }
   ],
   "source": [
    "model.summary()"
   ]
  },
  {
   "cell_type": "code",
   "execution_count": 88,
   "metadata": {},
   "outputs": [
    {
     "name": "stdout",
     "output_type": "stream",
     "text": [
      "Epoch 1/100\n",
      "25/25 [==============================] - 0s 9ms/step - loss: 0.3141 - accuracy: 0.2989 - val_loss: 0.2323 - val_accuracy: 0.3899\n",
      "Epoch 2/100\n",
      "25/25 [==============================] - 0s 3ms/step - loss: 0.2264 - accuracy: 0.4457 - val_loss: 0.2188 - val_accuracy: 0.4345\n",
      "Epoch 3/100\n",
      "25/25 [==============================] - 0s 3ms/step - loss: 0.2175 - accuracy: 0.4636 - val_loss: 0.2154 - val_accuracy: 0.3958\n",
      "Epoch 4/100\n",
      "25/25 [==============================] - 0s 2ms/step - loss: 0.2110 - accuracy: 0.5428 - val_loss: 0.2109 - val_accuracy: 0.4345\n",
      "Epoch 5/100\n",
      "25/25 [==============================] - 0s 3ms/step - loss: 0.2078 - accuracy: 0.5338 - val_loss: 0.2012 - val_accuracy: 0.6339\n",
      "Epoch 6/100\n",
      "25/25 [==============================] - 0s 2ms/step - loss: 0.1979 - accuracy: 0.6079 - val_loss: 0.1879 - val_accuracy: 0.7500\n",
      "Epoch 7/100\n",
      "25/25 [==============================] - 0s 2ms/step - loss: 0.1902 - accuracy: 0.6373 - val_loss: 0.1809 - val_accuracy: 0.6994\n",
      "Epoch 8/100\n",
      "25/25 [==============================] - 0s 2ms/step - loss: 0.1796 - accuracy: 0.6820 - val_loss: 0.1865 - val_accuracy: 0.6905\n",
      "Epoch 9/100\n",
      "25/25 [==============================] - 0s 2ms/step - loss: 0.1694 - accuracy: 0.7203 - val_loss: 0.1633 - val_accuracy: 0.7321\n",
      "Epoch 10/100\n",
      "25/25 [==============================] - 0s 2ms/step - loss: 0.1588 - accuracy: 0.7522 - val_loss: 0.1477 - val_accuracy: 0.7976\n",
      "Epoch 11/100\n",
      "25/25 [==============================] - 0s 2ms/step - loss: 0.1529 - accuracy: 0.7586 - val_loss: 0.1501 - val_accuracy: 0.8601\n",
      "Epoch 12/100\n",
      "25/25 [==============================] - 0s 2ms/step - loss: 0.1432 - accuracy: 0.8097 - val_loss: 0.1478 - val_accuracy: 0.7321\n",
      "Epoch 13/100\n",
      "25/25 [==============================] - 0s 2ms/step - loss: 0.1375 - accuracy: 0.8084 - val_loss: 0.1264 - val_accuracy: 0.9137\n",
      "Epoch 14/100\n",
      "25/25 [==============================] - 0s 2ms/step - loss: 0.1312 - accuracy: 0.8352 - val_loss: 0.1374 - val_accuracy: 0.8542\n",
      "Epoch 15/100\n",
      "25/25 [==============================] - 0s 2ms/step - loss: 0.1253 - accuracy: 0.8416 - val_loss: 0.1149 - val_accuracy: 0.9345\n",
      "Epoch 16/100\n",
      "25/25 [==============================] - 0s 2ms/step - loss: 0.1177 - accuracy: 0.8736 - val_loss: 0.1181 - val_accuracy: 0.9226\n",
      "Epoch 17/100\n",
      "25/25 [==============================] - 0s 2ms/step - loss: 0.1124 - accuracy: 0.8799 - val_loss: 0.1011 - val_accuracy: 0.9375\n",
      "Epoch 18/100\n",
      "25/25 [==============================] - 0s 2ms/step - loss: 0.1095 - accuracy: 0.8761 - val_loss: 0.0979 - val_accuracy: 0.9375\n",
      "Epoch 19/100\n",
      "25/25 [==============================] - 0s 2ms/step - loss: 0.0971 - accuracy: 0.9132 - val_loss: 0.0849 - val_accuracy: 0.9405\n",
      "Epoch 20/100\n",
      "25/25 [==============================] - 0s 2ms/step - loss: 0.0974 - accuracy: 0.8863 - val_loss: 0.0819 - val_accuracy: 0.9286\n",
      "Epoch 21/100\n",
      "25/25 [==============================] - 0s 2ms/step - loss: 0.0887 - accuracy: 0.9132 - val_loss: 0.0797 - val_accuracy: 0.9315\n",
      "Epoch 22/100\n",
      "25/25 [==============================] - 0s 2ms/step - loss: 0.0850 - accuracy: 0.8978 - val_loss: 0.0723 - val_accuracy: 0.9375\n",
      "Epoch 23/100\n",
      "25/25 [==============================] - 0s 2ms/step - loss: 0.0812 - accuracy: 0.9080 - val_loss: 0.0653 - val_accuracy: 0.9405\n",
      "Epoch 24/100\n",
      "25/25 [==============================] - 0s 2ms/step - loss: 0.0726 - accuracy: 0.9157 - val_loss: 0.0645 - val_accuracy: 0.9345\n",
      "Epoch 25/100\n",
      "25/25 [==============================] - 0s 2ms/step - loss: 0.0687 - accuracy: 0.9259 - val_loss: 0.0583 - val_accuracy: 0.9435\n",
      "Epoch 26/100\n",
      "25/25 [==============================] - 0s 2ms/step - loss: 0.0619 - accuracy: 0.9336 - val_loss: 0.0541 - val_accuracy: 0.9435\n",
      "Epoch 27/100\n",
      "25/25 [==============================] - 0s 2ms/step - loss: 0.0678 - accuracy: 0.9017 - val_loss: 0.0507 - val_accuracy: 0.9405\n",
      "Epoch 28/100\n",
      "25/25 [==============================] - 0s 2ms/step - loss: 0.0546 - accuracy: 0.9323 - val_loss: 0.0470 - val_accuracy: 0.9435\n",
      "Epoch 29/100\n",
      "25/25 [==============================] - 0s 2ms/step - loss: 0.0582 - accuracy: 0.9157 - val_loss: 0.0471 - val_accuracy: 0.9464\n",
      "Epoch 30/100\n",
      "25/25 [==============================] - 0s 2ms/step - loss: 0.0496 - accuracy: 0.9400 - val_loss: 0.0446 - val_accuracy: 0.9435\n",
      "Epoch 31/100\n",
      "25/25 [==============================] - 0s 2ms/step - loss: 0.0451 - accuracy: 0.9413 - val_loss: 0.0432 - val_accuracy: 0.9345\n",
      "Epoch 32/100\n",
      "25/25 [==============================] - 0s 2ms/step - loss: 0.0444 - accuracy: 0.9298 - val_loss: 0.0381 - val_accuracy: 0.9494\n",
      "Epoch 33/100\n",
      "25/25 [==============================] - 0s 2ms/step - loss: 0.0442 - accuracy: 0.9195 - val_loss: 0.0343 - val_accuracy: 0.9405\n",
      "Epoch 34/100\n",
      "25/25 [==============================] - 0s 2ms/step - loss: 0.0471 - accuracy: 0.9144 - val_loss: 0.0314 - val_accuracy: 0.9435\n",
      "Epoch 35/100\n",
      "25/25 [==============================] - 0s 3ms/step - loss: 0.0377 - accuracy: 0.9400 - val_loss: 0.0305 - val_accuracy: 0.9524\n",
      "Epoch 36/100\n",
      "25/25 [==============================] - 0s 3ms/step - loss: 0.0332 - accuracy: 0.9502 - val_loss: 0.0279 - val_accuracy: 0.9673\n",
      "Epoch 37/100\n",
      "25/25 [==============================] - 0s 3ms/step - loss: 0.0376 - accuracy: 0.9438 - val_loss: 0.0285 - val_accuracy: 0.9583\n",
      "Epoch 38/100\n",
      "25/25 [==============================] - 0s 3ms/step - loss: 0.0378 - accuracy: 0.9413 - val_loss: 0.0232 - val_accuracy: 0.9673\n",
      "Epoch 39/100\n",
      "25/25 [==============================] - 0s 3ms/step - loss: 0.0219 - accuracy: 0.9706 - val_loss: 0.0218 - val_accuracy: 0.9524\n",
      "Epoch 40/100\n",
      "25/25 [==============================] - 0s 3ms/step - loss: 0.0335 - accuracy: 0.9425 - val_loss: 0.0258 - val_accuracy: 0.9613\n",
      "Epoch 41/100\n",
      "25/25 [==============================] - 0s 3ms/step - loss: 0.0196 - accuracy: 0.9770 - val_loss: 0.1513 - val_accuracy: 0.7262\n",
      "Epoch 42/100\n",
      "25/25 [==============================] - 0s 3ms/step - loss: 0.0292 - accuracy: 0.9591 - val_loss: 0.0181 - val_accuracy: 0.9851\n",
      "Epoch 43/100\n",
      "25/25 [==============================] - 0s 2ms/step - loss: 0.0301 - accuracy: 0.9515 - val_loss: 0.0172 - val_accuracy: 0.9851\n",
      "Epoch 44/100\n",
      "25/25 [==============================] - 0s 2ms/step - loss: 0.0243 - accuracy: 0.9681 - val_loss: 0.0153 - val_accuracy: 0.9792\n",
      "Epoch 45/100\n",
      "25/25 [==============================] - 0s 2ms/step - loss: 0.0241 - accuracy: 0.9706 - val_loss: 0.0145 - val_accuracy: 0.9851\n",
      "Epoch 46/100\n",
      "25/25 [==============================] - 0s 2ms/step - loss: 0.0141 - accuracy: 0.9847 - val_loss: 0.0540 - val_accuracy: 0.9375\n",
      "Epoch 47/100\n",
      "25/25 [==============================] - 0s 3ms/step - loss: 0.0250 - accuracy: 0.9681 - val_loss: 0.0209 - val_accuracy: 0.9911\n",
      "Epoch 48/100\n",
      "25/25 [==============================] - 0s 2ms/step - loss: 0.0225 - accuracy: 0.9732 - val_loss: 0.0113 - val_accuracy: 0.9940\n",
      "Epoch 49/100\n",
      "25/25 [==============================] - 0s 2ms/step - loss: 0.0257 - accuracy: 0.9604 - val_loss: 0.0111 - val_accuracy: 0.9881\n",
      "Epoch 50/100\n",
      "25/25 [==============================] - 0s 3ms/step - loss: 0.0109 - accuracy: 0.9885 - val_loss: 0.0132 - val_accuracy: 0.9911\n",
      "Epoch 51/100\n",
      "25/25 [==============================] - 0s 2ms/step - loss: 0.0263 - accuracy: 0.9630 - val_loss: 0.0099 - val_accuracy: 0.9940\n",
      "Epoch 52/100\n",
      "25/25 [==============================] - 0s 3ms/step - loss: 0.0108 - accuracy: 0.9898 - val_loss: 0.0096 - val_accuracy: 0.9940\n",
      "Epoch 53/100\n",
      "25/25 [==============================] - 0s 3ms/step - loss: 0.0199 - accuracy: 0.9732 - val_loss: 0.0095 - val_accuracy: 0.9911\n",
      "Epoch 54/100\n",
      "25/25 [==============================] - 0s 2ms/step - loss: 0.0090 - accuracy: 0.9923 - val_loss: 0.0112 - val_accuracy: 0.9851\n",
      "Epoch 55/100\n",
      "25/25 [==============================] - 0s 2ms/step - loss: 0.0151 - accuracy: 0.9770 - val_loss: 0.0083 - val_accuracy: 0.9940\n",
      "Epoch 56/100\n",
      "25/25 [==============================] - 0s 2ms/step - loss: 0.0103 - accuracy: 0.9885 - val_loss: 0.0898 - val_accuracy: 0.8393\n",
      "Epoch 57/100\n",
      "25/25 [==============================] - 0s 2ms/step - loss: 0.0152 - accuracy: 0.9808 - val_loss: 0.0072 - val_accuracy: 0.9940\n",
      "Epoch 58/100\n",
      "25/25 [==============================] - 0s 2ms/step - loss: 0.0181 - accuracy: 0.9732 - val_loss: 0.0071 - val_accuracy: 0.9911\n"
     ]
    },
    {
     "name": "stdout",
     "output_type": "stream",
     "text": [
      "Epoch 59/100\n",
      "25/25 [==============================] - 0s 3ms/step - loss: 0.0069 - accuracy: 0.9911 - val_loss: 0.0147 - val_accuracy: 0.9851\n",
      "Epoch 60/100\n",
      "25/25 [==============================] - 0s 3ms/step - loss: 0.0230 - accuracy: 0.9655 - val_loss: 0.0066 - val_accuracy: 0.9940\n",
      "Epoch 61/100\n",
      "25/25 [==============================] - 0s 3ms/step - loss: 0.0064 - accuracy: 0.9936 - val_loss: 0.0071 - val_accuracy: 0.9911\n",
      "Epoch 62/100\n",
      "25/25 [==============================] - 0s 3ms/step - loss: 0.0209 - accuracy: 0.9681 - val_loss: 0.0058 - val_accuracy: 0.9940\n",
      "Epoch 63/100\n",
      "25/25 [==============================] - 0s 3ms/step - loss: 0.0058 - accuracy: 0.9936 - val_loss: 0.0066 - val_accuracy: 0.9911\n",
      "Epoch 64/100\n",
      "25/25 [==============================] - 0s 3ms/step - loss: 0.0243 - accuracy: 0.9642 - val_loss: 0.0056 - val_accuracy: 0.9940\n",
      "Epoch 65/100\n",
      "25/25 [==============================] - 0s 2ms/step - loss: 0.0052 - accuracy: 0.9936 - val_loss: 0.0053 - val_accuracy: 0.9940\n",
      "Epoch 66/100\n",
      "25/25 [==============================] - 0s 3ms/step - loss: 0.0192 - accuracy: 0.9655 - val_loss: 0.0052 - val_accuracy: 0.9940\n",
      "Epoch 67/100\n",
      "25/25 [==============================] - 0s 3ms/step - loss: 0.0050 - accuracy: 0.9936 - val_loss: 0.0051 - val_accuracy: 0.9940\n",
      "Epoch 68/100\n",
      "25/25 [==============================] - 0s 3ms/step - loss: 0.0167 - accuracy: 0.9693 - val_loss: 0.0053 - val_accuracy: 0.9940\n",
      "Epoch 69/100\n",
      "25/25 [==============================] - 0s 3ms/step - loss: 0.0047 - accuracy: 0.9936 - val_loss: 0.0047 - val_accuracy: 1.0000\n",
      "Epoch 70/100\n",
      "25/25 [==============================] - 0s 2ms/step - loss: 0.0181 - accuracy: 0.9668 - val_loss: 0.0048 - val_accuracy: 0.9940\n",
      "Epoch 71/100\n",
      "25/25 [==============================] - 0s 3ms/step - loss: 0.0042 - accuracy: 0.9936 - val_loss: 0.0041 - val_accuracy: 0.9940\n",
      "Epoch 72/100\n",
      "25/25 [==============================] - 0s 3ms/step - loss: 0.0245 - accuracy: 0.9604 - val_loss: 0.0043 - val_accuracy: 0.9940\n",
      "Epoch 73/100\n",
      "25/25 [==============================] - 0s 2ms/step - loss: 0.0041 - accuracy: 0.9936 - val_loss: 0.0042 - val_accuracy: 0.9940\n",
      "Epoch 74/100\n",
      "25/25 [==============================] - 0s 3ms/step - loss: 0.0170 - accuracy: 0.9757 - val_loss: 0.0067 - val_accuracy: 0.9970\n",
      "Epoch 75/100\n",
      "25/25 [==============================] - 0s 3ms/step - loss: 0.0037 - accuracy: 0.9974 - val_loss: 0.0036 - val_accuracy: 1.0000\n",
      "Epoch 76/100\n",
      "25/25 [==============================] - 0s 3ms/step - loss: 0.0036 - accuracy: 0.9974 - val_loss: 0.0049 - val_accuracy: 1.0000\n",
      "Epoch 77/100\n",
      "25/25 [==============================] - 0s 2ms/step - loss: 0.0214 - accuracy: 0.9719 - val_loss: 0.0035 - val_accuracy: 1.0000\n",
      "Epoch 78/100\n",
      "25/25 [==============================] - 0s 3ms/step - loss: 0.0030 - accuracy: 1.0000 - val_loss: 0.0034 - val_accuracy: 1.0000\n",
      "Epoch 79/100\n",
      "25/25 [==============================] - 0s 3ms/step - loss: 0.0158 - accuracy: 0.9757 - val_loss: 0.0036 - val_accuracy: 1.0000\n",
      "Epoch 80/100\n",
      "25/25 [==============================] - 0s 3ms/step - loss: 0.0030 - accuracy: 0.9987 - val_loss: 0.0029 - val_accuracy: 1.0000\n",
      "Epoch 81/100\n",
      "25/25 [==============================] - 0s 2ms/step - loss: 0.0125 - accuracy: 0.9872 - val_loss: 0.0027 - val_accuracy: 1.0000\n",
      "Epoch 82/100\n",
      "25/25 [==============================] - 0s 2ms/step - loss: 0.0026 - accuracy: 0.9987 - val_loss: 0.0027 - val_accuracy: 1.0000\n",
      "Epoch 83/100\n",
      "25/25 [==============================] - 0s 2ms/step - loss: 0.0152 - accuracy: 0.9719 - val_loss: 0.0033 - val_accuracy: 0.9970\n",
      "Epoch 84/100\n",
      "25/25 [==============================] - 0s 2ms/step - loss: 0.0025 - accuracy: 1.0000 - val_loss: 0.0024 - val_accuracy: 1.0000\n",
      "Epoch 85/100\n",
      "25/25 [==============================] - 0s 2ms/step - loss: 0.0023 - accuracy: 1.0000 - val_loss: 0.0024 - val_accuracy: 1.0000\n",
      "Epoch 86/100\n",
      "25/25 [==============================] - 0s 3ms/step - loss: 0.0225 - accuracy: 0.9655 - val_loss: 0.0024 - val_accuracy: 1.0000\n",
      "Epoch 87/100\n",
      "25/25 [==============================] - 0s 3ms/step - loss: 0.0020 - accuracy: 1.0000 - val_loss: 0.0020 - val_accuracy: 1.0000\n",
      "Epoch 88/100\n",
      "25/25 [==============================] - 0s 3ms/step - loss: 0.0022 - accuracy: 1.0000 - val_loss: 0.0466 - val_accuracy: 0.9256\n",
      "Epoch 89/100\n",
      "25/25 [==============================] - 0s 3ms/step - loss: 0.0169 - accuracy: 0.9770 - val_loss: 0.0020 - val_accuracy: 1.0000\n",
      "Epoch 90/100\n",
      "25/25 [==============================] - 0s 3ms/step - loss: 0.0016 - accuracy: 1.0000 - val_loss: 0.0022 - val_accuracy: 1.0000\n",
      "Epoch 91/100\n",
      "25/25 [==============================] - 0s 2ms/step - loss: 0.0016 - accuracy: 1.0000 - val_loss: 0.0028 - val_accuracy: 1.0000\n",
      "Epoch 92/100\n",
      "25/25 [==============================] - 0s 2ms/step - loss: 0.0209 - accuracy: 0.9706 - val_loss: 0.0016 - val_accuracy: 1.0000\n",
      "Epoch 93/100\n",
      "25/25 [==============================] - 0s 2ms/step - loss: 0.0013 - accuracy: 1.0000 - val_loss: 0.0026 - val_accuracy: 1.0000\n",
      "Epoch 94/100\n",
      "25/25 [==============================] - 0s 2ms/step - loss: 0.0014 - accuracy: 1.0000 - val_loss: 0.0017 - val_accuracy: 1.0000\n",
      "Epoch 95/100\n",
      "25/25 [==============================] - 0s 4ms/step - loss: 0.0087 - accuracy: 0.9885 - val_loss: 0.0012 - val_accuracy: 1.0000\n",
      "Epoch 96/100\n",
      "25/25 [==============================] - 0s 3ms/step - loss: 0.0168 - accuracy: 0.9745 - val_loss: 0.0015 - val_accuracy: 1.0000\n",
      "Epoch 97/100\n",
      "25/25 [==============================] - 0s 3ms/step - loss: 9.6107e-04 - accuracy: 1.0000 - val_loss: 0.0012 - val_accuracy: 1.0000\n",
      "Epoch 98/100\n",
      "25/25 [==============================] - 0s 2ms/step - loss: 7.9265e-04 - accuracy: 1.0000 - val_loss: 0.0012 - val_accuracy: 1.0000\n",
      "Epoch 99/100\n",
      "25/25 [==============================] - 0s 3ms/step - loss: 9.8554e-04 - accuracy: 1.0000 - val_loss: 9.2809e-04 - val_accuracy: 1.0000\n",
      "Epoch 100/100\n",
      "25/25 [==============================] - 0s 2ms/step - loss: 0.0161 - accuracy: 0.9732 - val_loss: 0.0011 - val_accuracy: 1.0000\n",
      "Wall time: 7.93 s\n"
     ]
    }
   ],
   "source": [
    "%%time\n",
    "\n",
    "log = model.fit(X_train, Y_train, epochs=100, batch_size=32, verbose=True,\n",
    "                callbacks=[keras.callbacks.EarlyStopping(monitor='val_loss', min_delta=0, patience=100, verbose=1)],\n",
    "               validation_data=(X_valid, Y_valid))"
   ]
  },
  {
   "cell_type": "code",
   "execution_count": 89,
   "metadata": {},
   "outputs": [
    {
     "data": {
      "image/png": "[encoded data removed]",
      "text/plain": [
       "<Figure size 432x288 with 1 Axes>"
      ]
     },
     "metadata": {
      "needs_background": "light"
     },
     "output_type": "display_data"
    }
   ],
   "source": [
    "plt.plot(log.history['loss'], label='loss')\n",
    "plt.plot(log.history['val_loss'], label='val_loss')\n",
    "plt.legend(frameon=False)\n",
    "plt.xlabel(\"epochs\")\n",
    "plt.ylabel(\"crossentropy\")\n",
    "plt.show()"
   ]
  },
  {
   "cell_type": "code",
   "execution_count": 90,
   "metadata": {},
   "outputs": [
    {
     "data": {
      "text/plain": [
       "array([6, 5, 7, 6, 5, 6, 5, 6, 4, 5, 5, 5, 6, 5, 6, 6, 7, 5, 5, 4, 7, 6,\n",
       "       6, 5, 6, 5, 5, 7, 5, 6, 5, 6, 5, 6, 7, 7, 5, 6, 6, 7, 5, 7, 6, 6,\n",
       "       5, 5, 6, 6, 6, 5, 5, 5, 6, 6, 6, 5, 5, 5, 6, 5, 5, 6, 6, 6, 5, 6,\n",
       "       5, 5, 6, 6, 6, 6, 4, 6, 5, 6, 5, 5, 5, 6, 6, 5, 6, 6, 6, 5, 6, 5,\n",
       "       5, 5, 5, 6, 4, 5, 7, 6, 6, 5, 6, 5, 8, 6, 6, 6, 5, 5, 5, 5, 7, 5,\n",
       "       6, 5, 7, 5, 6, 6, 6, 7, 6, 6, 5, 7, 5, 5, 6, 6, 5, 5, 5, 6, 6, 6,\n",
       "       6, 6, 6, 5, 6, 5, 8, 5, 6, 5, 6, 5, 4, 6, 7, 6, 5, 6, 6, 5, 5, 5,\n",
       "       6, 6, 3, 6, 6, 6, 6, 6, 6, 6, 5, 5, 6, 6, 6, 6, 5, 5, 5, 8, 5, 6,\n",
       "       6, 7, 7, 5, 5, 7, 5, 6, 6, 4, 5, 6, 5, 5, 6, 5, 6, 6, 5, 5, 5, 5,\n",
       "       5, 5, 5, 6, 6, 5, 6, 6, 5, 6, 7, 6, 6, 6, 5, 5, 5, 6, 5, 6, 6, 5,\n",
       "       5, 5, 6, 6, 5, 6, 6, 6, 3, 6, 5, 5, 7, 6, 7, 6, 6, 7, 7, 6, 5, 6,\n",
       "       5, 5, 6, 5, 5, 5, 5, 6, 5, 5, 5, 6, 6, 5, 5, 5, 6, 7, 5, 6, 5, 6,\n",
       "       5, 4, 5, 5, 6, 7, 6, 5, 5, 4, 5, 6, 7, 6, 6, 7, 5, 7, 5, 6, 6, 5,\n",
       "       5, 5, 6, 6, 5, 6, 6, 6, 5, 6, 6, 5, 6, 5, 6, 5, 6, 6, 6, 6, 5, 5,\n",
       "       6, 5, 5, 6, 5, 5, 5, 6, 4, 5, 4, 6, 5, 5, 5, 8, 6, 6, 7, 6, 5, 5,\n",
       "       7, 5, 5, 5, 5, 6, 7, 5, 4, 5, 5, 5, 5, 8, 6, 5, 6, 5, 5, 7, 5, 6,\n",
       "       5, 6, 7, 5, 6, 6, 5, 7, 5, 6, 5, 7, 5, 5, 6, 7, 6, 4, 6, 6, 4, 7,\n",
       "       6, 5, 5, 7, 6, 6, 6, 6, 5, 6, 6, 6, 6, 5, 6, 7, 6, 6, 5, 7, 5, 6,\n",
       "       5, 5, 7, 5, 5, 5, 5, 6, 5, 5, 6, 6, 5, 7, 6, 5, 5, 6, 6, 6, 6, 6,\n",
       "       5, 5, 6, 5, 6, 5, 5, 6, 5, 6, 5, 5, 5, 6, 6, 6, 5, 7, 6, 5, 5, 6,\n",
       "       6, 6, 6, 5, 5, 5, 5, 6, 6, 5, 7, 5, 7, 6, 6, 5, 4, 5, 6, 6, 3, 6,\n",
       "       5, 6, 5, 6, 7, 5, 5, 5, 6, 6, 5, 5, 6, 5, 5, 5, 6, 5], dtype=int64)"
      ]
     },
     "execution_count": 90,
     "metadata": {},
     "output_type": "execute_result"
    }
   ],
   "source": [
    "# 予測\n",
    "Y_pred = np.argmax(model.predict(X_test), axis=1)\n",
    "Y_pred"
   ]
  },
  {
   "cell_type": "code",
   "execution_count": 91,
   "metadata": {},
   "outputs": [
    {
     "data": {
      "text/plain": [
       "array([6, 5, 7, 6, 5, 6, 5, 6, 4, 5, 5, 5, 6, 5, 6, 6, 7, 5, 5, 4, 7, 6,\n",
       "       6, 4, 6, 5, 5, 7, 5, 6, 5, 6, 5, 6, 7, 7, 5, 6, 6, 7, 5, 7, 6, 6,\n",
       "       5, 5, 6, 6, 6, 5, 5, 5, 6, 6, 6, 5, 5, 5, 6, 5, 5, 6, 6, 6, 5, 6,\n",
       "       5, 5, 6, 6, 6, 6, 4, 6, 5, 6, 5, 5, 5, 6, 6, 5, 6, 6, 6, 5, 6, 5,\n",
       "       5, 5, 5, 6, 4, 5, 7, 6, 6, 5, 6, 5, 8, 6, 6, 6, 5, 5, 5, 5, 7, 5,\n",
       "       6, 5, 7, 5, 6, 6, 6, 7, 6, 6, 5, 7, 5, 5, 6, 6, 5, 5, 5, 6, 6, 6,\n",
       "       6, 6, 6, 5, 6, 5, 8, 5, 6, 5, 6, 5, 4, 6, 7, 6, 5, 6, 6, 5, 5, 5,\n",
       "       6, 6, 3, 6, 6, 6, 6, 6, 6, 6, 5, 5, 6, 6, 6, 6, 5, 5, 5, 8, 5, 6,\n",
       "       6, 7, 7, 5, 5, 7, 5, 6, 6, 4, 5, 6, 5, 5, 6, 5, 6, 6, 5, 5, 5, 5,\n",
       "       5, 5, 5, 6, 6, 5, 6, 6, 5, 6, 7, 6, 6, 6, 5, 5, 5, 6, 5, 6, 6, 5,\n",
       "       5, 5, 6, 6, 5, 6, 6, 6, 3, 6, 5, 5, 7, 6, 7, 6, 6, 7, 7, 6, 5, 6,\n",
       "       5, 5, 6, 5, 5, 5, 5, 6, 5, 5, 5, 6, 6, 5, 5, 5, 6, 7, 5, 6, 5, 6,\n",
       "       5, 4, 5, 5, 6, 7, 6, 5, 5, 4, 5, 6, 7, 6, 6, 7, 5, 7, 5, 6, 6, 5,\n",
       "       5, 5, 6, 6, 5, 6, 6, 6, 5, 6, 6, 5, 6, 5, 6, 5, 6, 6, 6, 6, 5, 5,\n",
       "       6, 5, 5, 6, 5, 5, 5, 6, 4, 5, 4, 6, 5, 5, 5, 8, 6, 6, 7, 6, 5, 5,\n",
       "       7, 5, 5, 5, 5, 6, 7, 5, 4, 5, 5, 5, 5, 8, 6, 5, 6, 5, 5, 7, 5, 6,\n",
       "       5, 6, 7, 5, 6, 6, 5, 7, 5, 6, 5, 7, 5, 5, 6, 7, 6, 4, 6, 6, 4, 7,\n",
       "       6, 5, 5, 7, 6, 6, 6, 6, 5, 6, 6, 6, 6, 5, 6, 7, 6, 6, 5, 7, 5, 6,\n",
       "       5, 5, 7, 5, 5, 5, 5, 6, 5, 5, 6, 6, 5, 7, 6, 5, 5, 6, 6, 6, 6, 6,\n",
       "       5, 5, 6, 5, 6, 5, 5, 6, 5, 6, 5, 5, 5, 6, 6, 6, 5, 7, 6, 5, 5, 6,\n",
       "       6, 6, 6, 5, 5, 5, 5, 6, 6, 5, 7, 5, 7, 6, 6, 5, 4, 5, 6, 6, 3, 6,\n",
       "       5, 6, 5, 6, 7, 5, 5, 5, 6, 6, 5, 5, 6, 5, 5, 5, 6, 5], dtype=int64)"
      ]
     },
     "execution_count": 91,
     "metadata": {},
     "output_type": "execute_result"
    }
   ],
   "source": [
    "# カテゴリー変数の復元\n",
    "Y_test_ = np.argmax(Y_test, axis=1)\n",
    "Y_test_"
   ]
  },
  {
   "cell_type": "code",
   "execution_count": 92,
   "metadata": {},
   "outputs": [
    {
     "name": "stdout",
     "output_type": "stream",
     "text": [
      "              precision    recall  f1-score   support\n",
      "\n",
      "           3       1.00      1.00      1.00         3\n",
      "           4       1.00      0.93      0.97        15\n",
      "           5       1.00      1.00      1.00       208\n",
      "           6       1.00      1.00      1.00       204\n",
      "           7       1.00      1.00      1.00        45\n",
      "           8       1.00      1.00      1.00         5\n",
      "\n",
      "    accuracy                           1.00       480\n",
      "   macro avg       1.00      0.99      0.99       480\n",
      "weighted avg       1.00      1.00      1.00       480\n",
      "\n"
     ]
    }
   ],
   "source": [
    "from sklearn.metrics import classification_report\n",
    "\n",
    "print(classification_report(Y_test_, Y_pred))"
   ]
  },
  {
   "cell_type": "code",
   "execution_count": 74,
   "metadata": {},
   "outputs": [
    {
     "name": "stdout",
     "output_type": "stream",
     "text": [
      "予測率: 99.58333333333333 %\n"
     ]
    }
   ],
   "source": [
    "from sklearn.metrics import accuracy_score\n",
    "accuracy = accuracy_score(y_true=Y_test_, y_pred=Y_pred)\n",
    "print(\"予測率:\", accuracy*100, \"%\")"
   ]
  },
  {
   "cell_type": "code",
   "execution_count": null,
   "metadata": {},
   "outputs": [],
   "source": []
  }
 ],
 "metadata": {
  "kernelspec": {
   "display_name": "Python 3",
   "language": "python",
   "name": "python3"
  },
  "language_info": {
   "codemirror_mode": {
    "name": "ipython",
    "version": 3
   },
   "file_extension": ".py",
   "mimetype": "text/x-python",
   "name": "python",
   "nbconvert_exporter": "python",
   "pygments_lexer": "ipython3",
   "version": "3.8.3"
  }
 },
 "nbformat": 4,
 "nbformat_minor": 4
}
