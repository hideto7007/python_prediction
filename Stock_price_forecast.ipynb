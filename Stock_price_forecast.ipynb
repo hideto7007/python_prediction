{
 "cells": [
  {
   "cell_type": "code",
   "execution_count": 3,
   "metadata": {},
   "outputs": [],
   "source": [
    "import numpy as np\n",
    "import matplotlib.pyplot as plt\n",
    "import pandas as pd\n",
    "from PIL import Image\n",
    "from datetime import datetime\n",
    "\n",
    "# Keras\n",
    "from tensorflow import keras\n",
    "from tensorflow.keras.layers import Dense, Activation, LSTM, Conv2D, Flatten\n",
    "from tensorflow.keras.models import Sequential\n",
    "from tensorflow.keras.utils import to_categorical\n",
    "\n",
    "\n",
    "# MSE\n",
    "from sklearn.metrics import mean_squared_error, classification_report\n",
    "from sklearn.linear_model import LogisticRegression\n",
    "from sklearn.preprocessing import StandardScaler\n",
    "\n",
    "\n",
    "# データの分割\n",
    "from sklearn.model_selection import train_test_split\n",
    "\n",
    "\n",
    "# JupyterNotebook上でグラフを表示する設定\n",
    "%matplotlib inline\n",
    "# DataFrameで全ての列を表示する設定\n",
    "pd.options.display.max_columns = None"
   ]
  },
  {
   "cell_type": "code",
   "execution_count": 4,
   "metadata": {},
   "outputs": [
    {
     "data": {
      "text/html": [
       "<div>\n",
       "<style scoped>\n",
       "    .dataframe tbody tr th:only-of-type {\n",
       "        vertical-align: middle;\n",
       "    }\n",
       "\n",
       "    .dataframe tbody tr th {\n",
       "        vertical-align: top;\n",
       "    }\n",
       "\n",
       "    .dataframe thead th {\n",
       "        text-align: right;\n",
       "    }\n",
       "</style>\n",
       "<table border=\"1\" class=\"dataframe\">\n",
       "  <thead>\n",
       "    <tr style=\"text-align: right;\">\n",
       "      <th></th>\n",
       "      <th>Date</th>\n",
       "      <th>Open</th>\n",
       "      <th>High</th>\n",
       "      <th>Low</th>\n",
       "      <th>Close</th>\n",
       "      <th>Up</th>\n",
       "    </tr>\n",
       "  </thead>\n",
       "  <tbody>\n",
       "    <tr>\n",
       "      <th>0</th>\n",
       "      <td>2004-01-02</td>\n",
       "      <td>50.85</td>\n",
       "      <td>50.91</td>\n",
       "      <td>50.62</td>\n",
       "      <td>50.72</td>\n",
       "      <td>1</td>\n",
       "    </tr>\n",
       "    <tr>\n",
       "      <th>1</th>\n",
       "      <td>2004-01-05</td>\n",
       "      <td>50.75</td>\n",
       "      <td>50.84</td>\n",
       "      <td>50.61</td>\n",
       "      <td>50.79</td>\n",
       "      <td>1</td>\n",
       "    </tr>\n",
       "    <tr>\n",
       "      <th>2</th>\n",
       "      <td>2004-01-06</td>\n",
       "      <td>50.87</td>\n",
       "      <td>51.26</td>\n",
       "      <td>50.86</td>\n",
       "      <td>51.15</td>\n",
       "      <td>1</td>\n",
       "    </tr>\n",
       "    <tr>\n",
       "      <th>3</th>\n",
       "      <td>2004-01-07</td>\n",
       "      <td>51.45</td>\n",
       "      <td>51.54</td>\n",
       "      <td>51.29</td>\n",
       "      <td>51.51</td>\n",
       "      <td>0</td>\n",
       "    </tr>\n",
       "    <tr>\n",
       "      <th>4</th>\n",
       "      <td>2004-01-08</td>\n",
       "      <td>51.15</td>\n",
       "      <td>51.33</td>\n",
       "      <td>51.02</td>\n",
       "      <td>51.28</td>\n",
       "      <td>0</td>\n",
       "    </tr>\n",
       "  </tbody>\n",
       "</table>\n",
       "</div>"
      ],
      "text/plain": [
       "         Date   Open   High    Low  Close  Up\n",
       "0  2004-01-02  50.85  50.91  50.62  50.72   1\n",
       "1  2004-01-05  50.75  50.84  50.61  50.79   1\n",
       "2  2004-01-06  50.87  51.26  50.86  51.15   1\n",
       "3  2004-01-07  51.45  51.54  51.29  51.51   0\n",
       "4  2004-01-08  51.15  51.33  51.02  51.28   0"
      ]
     },
     "execution_count": 4,
     "metadata": {},
     "output_type": "execute_result"
    }
   ],
   "source": [
    "train = pd.read_csv('train.csv')\n",
    "train.head()"
   ]
  },
  {
   "cell_type": "code",
   "execution_count": 73,
   "metadata": {},
   "outputs": [
    {
     "name": "stdout",
     "output_type": "stream",
     "text": [
      "<class 'pandas.core.frame.DataFrame'>\n",
      "RangeIndex: 2026 entries, 0 to 2025\n",
      "Data columns (total 6 columns):\n",
      " #   Column  Non-Null Count  Dtype  \n",
      "---  ------  --------------  -----  \n",
      " 0   Date    2026 non-null   object \n",
      " 1   Open    2026 non-null   float64\n",
      " 2   High    2026 non-null   float64\n",
      " 3   Low     2026 non-null   float64\n",
      " 4   Close   2026 non-null   float64\n",
      " 5   Up      2026 non-null   int64  \n",
      "dtypes: float64(4), int64(1), object(1)\n",
      "memory usage: 95.1+ KB\n"
     ]
    }
   ],
   "source": [
    "train.info()"
   ]
  },
  {
   "cell_type": "code",
   "execution_count": 74,
   "metadata": {},
   "outputs": [
    {
     "data": {
      "text/html": [
       "<div>\n",
       "<style scoped>\n",
       "    .dataframe tbody tr th:only-of-type {\n",
       "        vertical-align: middle;\n",
       "    }\n",
       "\n",
       "    .dataframe tbody tr th {\n",
       "        vertical-align: top;\n",
       "    }\n",
       "\n",
       "    .dataframe thead th {\n",
       "        text-align: right;\n",
       "    }\n",
       "</style>\n",
       "<table border=\"1\" class=\"dataframe\">\n",
       "  <thead>\n",
       "    <tr style=\"text-align: right;\">\n",
       "      <th></th>\n",
       "      <th>Date</th>\n",
       "      <th>Open</th>\n",
       "      <th>High</th>\n",
       "      <th>Low</th>\n",
       "      <th>Close</th>\n",
       "      <th>Up</th>\n",
       "    </tr>\n",
       "  </thead>\n",
       "  <tbody>\n",
       "    <tr>\n",
       "      <th>0</th>\n",
       "      <td>2004-01-02</td>\n",
       "      <td>50.85</td>\n",
       "      <td>50.91</td>\n",
       "      <td>50.62</td>\n",
       "      <td>50.72</td>\n",
       "      <td>1</td>\n",
       "    </tr>\n",
       "    <tr>\n",
       "      <th>1</th>\n",
       "      <td>2004-01-05</td>\n",
       "      <td>50.75</td>\n",
       "      <td>50.84</td>\n",
       "      <td>50.61</td>\n",
       "      <td>50.79</td>\n",
       "      <td>1</td>\n",
       "    </tr>\n",
       "    <tr>\n",
       "      <th>2</th>\n",
       "      <td>2004-01-06</td>\n",
       "      <td>50.87</td>\n",
       "      <td>51.26</td>\n",
       "      <td>50.86</td>\n",
       "      <td>51.15</td>\n",
       "      <td>1</td>\n",
       "    </tr>\n",
       "    <tr>\n",
       "      <th>3</th>\n",
       "      <td>2004-01-07</td>\n",
       "      <td>51.45</td>\n",
       "      <td>51.54</td>\n",
       "      <td>51.29</td>\n",
       "      <td>51.51</td>\n",
       "      <td>0</td>\n",
       "    </tr>\n",
       "    <tr>\n",
       "      <th>4</th>\n",
       "      <td>2004-01-08</td>\n",
       "      <td>51.15</td>\n",
       "      <td>51.33</td>\n",
       "      <td>51.02</td>\n",
       "      <td>51.28</td>\n",
       "      <td>0</td>\n",
       "    </tr>\n",
       "  </tbody>\n",
       "</table>\n",
       "</div>"
      ],
      "text/plain": [
       "        Date   Open   High    Low  Close  Up\n",
       "0 2004-01-02  50.85  50.91  50.62  50.72   1\n",
       "1 2004-01-05  50.75  50.84  50.61  50.79   1\n",
       "2 2004-01-06  50.87  51.26  50.86  51.15   1\n",
       "3 2004-01-07  51.45  51.54  51.29  51.51   0\n",
       "4 2004-01-08  51.15  51.33  51.02  51.28   0"
      ]
     },
     "execution_count": 74,
     "metadata": {},
     "output_type": "execute_result"
    }
   ],
   "source": [
    "# Date(日付)のデータ型の変更  object型からdatetime64型に変更\n",
    "train['Date'] = pd.to_datetime(train['Date'], format=\"%Y-%m-%d\")\n",
    "train.head()"
   ]
  },
  {
   "cell_type": "code",
   "execution_count": 75,
   "metadata": {},
   "outputs": [
    {
     "name": "stdout",
     "output_type": "stream",
     "text": [
      "<class 'pandas.core.frame.DataFrame'>\n",
      "RangeIndex: 2026 entries, 0 to 2025\n",
      "Data columns (total 6 columns):\n",
      " #   Column  Non-Null Count  Dtype         \n",
      "---  ------  --------------  -----         \n",
      " 0   Date    2026 non-null   datetime64[ns]\n",
      " 1   Open    2026 non-null   float64       \n",
      " 2   High    2026 non-null   float64       \n",
      " 3   Low     2026 non-null   float64       \n",
      " 4   Close   2026 non-null   float64       \n",
      " 5   Up      2026 non-null   int64         \n",
      "dtypes: datetime64[ns](1), float64(4), int64(1)\n",
      "memory usage: 95.1 KB\n"
     ]
    }
   ],
   "source": [
    "train.info()"
   ]
  },
  {
   "cell_type": "code",
   "execution_count": 76,
   "metadata": {},
   "outputs": [],
   "source": [
    "# データの並び替え\n",
    "train.sort_values(by='Date', ascending=True, inplace=True)\n",
    "# インデックスの更新\n",
    "train.set_index('Date', inplace=True)"
   ]
  },
  {
   "cell_type": "code",
   "execution_count": 77,
   "metadata": {},
   "outputs": [
    {
     "name": "stdout",
     "output_type": "stream",
     "text": [
      "<class 'pandas.core.frame.DataFrame'>\n",
      "DatetimeIndex: 2026 entries, 2004-01-02 to 2012-01-18\n",
      "Data columns (total 5 columns):\n",
      " #   Column  Non-Null Count  Dtype  \n",
      "---  ------  --------------  -----  \n",
      " 0   Open    2026 non-null   float64\n",
      " 1   High    2026 non-null   float64\n",
      " 2   Low     2026 non-null   float64\n",
      " 3   Close   2026 non-null   float64\n",
      " 4   Up      2026 non-null   int64  \n",
      "dtypes: float64(4), int64(1)\n",
      "memory usage: 95.0 KB\n"
     ]
    }
   ],
   "source": [
    "train.info()"
   ]
  },
  {
   "cell_type": "code",
   "execution_count": 78,
   "metadata": {},
   "outputs": [
    {
     "data": {
      "text/html": [
       "<div>\n",
       "<style scoped>\n",
       "    .dataframe tbody tr th:only-of-type {\n",
       "        vertical-align: middle;\n",
       "    }\n",
       "\n",
       "    .dataframe tbody tr th {\n",
       "        vertical-align: top;\n",
       "    }\n",
       "\n",
       "    .dataframe thead th {\n",
       "        text-align: right;\n",
       "    }\n",
       "</style>\n",
       "<table border=\"1\" class=\"dataframe\">\n",
       "  <thead>\n",
       "    <tr style=\"text-align: right;\">\n",
       "      <th></th>\n",
       "      <th>Open</th>\n",
       "      <th>High</th>\n",
       "      <th>Low</th>\n",
       "      <th>Close</th>\n",
       "      <th>Up</th>\n",
       "    </tr>\n",
       "    <tr>\n",
       "      <th>Date</th>\n",
       "      <th></th>\n",
       "      <th></th>\n",
       "      <th></th>\n",
       "      <th></th>\n",
       "      <th></th>\n",
       "    </tr>\n",
       "  </thead>\n",
       "  <tbody>\n",
       "    <tr>\n",
       "      <th>2004-01-02</th>\n",
       "      <td>50.85</td>\n",
       "      <td>50.91</td>\n",
       "      <td>50.62</td>\n",
       "      <td>50.72</td>\n",
       "      <td>1</td>\n",
       "    </tr>\n",
       "    <tr>\n",
       "      <th>2004-01-05</th>\n",
       "      <td>50.75</td>\n",
       "      <td>50.84</td>\n",
       "      <td>50.61</td>\n",
       "      <td>50.79</td>\n",
       "      <td>1</td>\n",
       "    </tr>\n",
       "    <tr>\n",
       "      <th>2004-01-06</th>\n",
       "      <td>50.87</td>\n",
       "      <td>51.26</td>\n",
       "      <td>50.86</td>\n",
       "      <td>51.15</td>\n",
       "      <td>1</td>\n",
       "    </tr>\n",
       "    <tr>\n",
       "      <th>2004-01-07</th>\n",
       "      <td>51.45</td>\n",
       "      <td>51.54</td>\n",
       "      <td>51.29</td>\n",
       "      <td>51.51</td>\n",
       "      <td>0</td>\n",
       "    </tr>\n",
       "    <tr>\n",
       "      <th>2004-01-08</th>\n",
       "      <td>51.15</td>\n",
       "      <td>51.33</td>\n",
       "      <td>51.02</td>\n",
       "      <td>51.28</td>\n",
       "      <td>0</td>\n",
       "    </tr>\n",
       "  </tbody>\n",
       "</table>\n",
       "</div>"
      ],
      "text/plain": [
       "             Open   High    Low  Close  Up\n",
       "Date                                      \n",
       "2004-01-02  50.85  50.91  50.62  50.72   1\n",
       "2004-01-05  50.75  50.84  50.61  50.79   1\n",
       "2004-01-06  50.87  51.26  50.86  51.15   1\n",
       "2004-01-07  51.45  51.54  51.29  51.51   0\n",
       "2004-01-08  51.15  51.33  51.02  51.28   0"
      ]
     },
     "execution_count": 78,
     "metadata": {},
     "output_type": "execute_result"
    }
   ],
   "source": [
    "train.head()"
   ]
  },
  {
   "cell_type": "code",
   "execution_count": 79,
   "metadata": {},
   "outputs": [
    {
     "name": "stdout",
     "output_type": "stream",
     "text": [
      "Date\n",
      "2004-01-02    50.72\n",
      "2004-01-05    50.79\n",
      "2004-01-06    51.15\n",
      "2004-01-07    51.51\n",
      "2004-01-08    51.28\n",
      "Name: Close, dtype: float64\n",
      "Date\n",
      "2004-01-02      NaN\n",
      "2004-01-05    50.72\n",
      "2004-01-06    50.79\n",
      "2004-01-07    51.15\n",
      "2004-01-08    51.51\n",
      "Name: Close, dtype: float64\n",
      "Date\n",
      "2004-01-02    0.000000\n",
      "2004-01-05    0.000591\n",
      "2004-01-06    0.001575\n",
      "2004-01-07    0.005865\n",
      "2004-01-08   -0.006989\n",
      "dtype: float64\n",
      "Date\n",
      "2004-01-02    0.000000\n",
      "2004-01-05    0.000591\n",
      "2004-01-06    0.001575\n",
      "2004-01-07    0.005865\n",
      "2004-01-08   -0.006989\n",
      "dtype: float64\n",
      "             Open   High    Low  Close  Up      Rate\n",
      "Date                                                \n",
      "2004-01-02  50.85  50.91  50.62  50.72   1  0.000000\n",
      "2004-01-05  50.75  50.84  50.61  50.79   1  0.000591\n",
      "2004-01-06  50.87  51.26  50.86  51.15   1  0.001575\n",
      "2004-01-07  51.45  51.54  51.29  51.51   0  0.005865\n",
      "2004-01-08  51.15  51.33  51.02  51.28   0 -0.006989\n"
     ]
    }
   ],
   "source": [
    "# [終値前日比] = ([当日終値] - [前日終値]) / [前日終値]を追加\n",
    "# 終値前日比⇒Compared to the day before the closing price\n",
    "# 略して、c_be_cl_price\n",
    "\n",
    "# Closeの確認\n",
    "print(train['Close'].head())\n",
    "\n",
    "# 1列ずれてるか確認\n",
    "print(train['Close'].shift(1).head())\n",
    "\n",
    "\n",
    "train_rate = (train['Open'] - train['Close'].shift(1)) / train['Close'].shift(1)\n",
    "\n",
    "# NaNを0に変換\n",
    "train_rate = train_rate.fillna(0)\n",
    "print(train_rate.head())\n",
    "\n",
    "# 終値前日比の先頭5行の確認\n",
    "# train['新たな行追加名'] = 追加する値\n",
    "train['Rate'] = train_rate\n",
    "print(train_rate.head())\n",
    "\n",
    "# このtrainには新たに追加された値が反映されてる\n",
    "print(train.head())"
   ]
  },
  {
   "cell_type": "code",
   "execution_count": 80,
   "metadata": {},
   "outputs": [
    {
     "data": {
      "text/html": [
       "<div>\n",
       "<style scoped>\n",
       "    .dataframe tbody tr th:only-of-type {\n",
       "        vertical-align: middle;\n",
       "    }\n",
       "\n",
       "    .dataframe tbody tr th {\n",
       "        vertical-align: top;\n",
       "    }\n",
       "\n",
       "    .dataframe thead th {\n",
       "        text-align: right;\n",
       "    }\n",
       "</style>\n",
       "<table border=\"1\" class=\"dataframe\">\n",
       "  <thead>\n",
       "    <tr style=\"text-align: right;\">\n",
       "      <th></th>\n",
       "      <th>Open</th>\n",
       "      <th>High</th>\n",
       "      <th>Low</th>\n",
       "      <th>Close</th>\n",
       "      <th>Up</th>\n",
       "      <th>Rate</th>\n",
       "    </tr>\n",
       "    <tr>\n",
       "      <th>Date</th>\n",
       "      <th></th>\n",
       "      <th></th>\n",
       "      <th></th>\n",
       "      <th></th>\n",
       "      <th></th>\n",
       "      <th></th>\n",
       "    </tr>\n",
       "  </thead>\n",
       "  <tbody>\n",
       "    <tr>\n",
       "      <th>2004-01-02</th>\n",
       "      <td>50.85</td>\n",
       "      <td>50.91</td>\n",
       "      <td>50.62</td>\n",
       "      <td>50.72</td>\n",
       "      <td>1</td>\n",
       "      <td>0.000000</td>\n",
       "    </tr>\n",
       "    <tr>\n",
       "      <th>2004-01-05</th>\n",
       "      <td>50.75</td>\n",
       "      <td>50.84</td>\n",
       "      <td>50.61</td>\n",
       "      <td>50.79</td>\n",
       "      <td>1</td>\n",
       "      <td>0.000591</td>\n",
       "    </tr>\n",
       "    <tr>\n",
       "      <th>2004-01-06</th>\n",
       "      <td>50.87</td>\n",
       "      <td>51.26</td>\n",
       "      <td>50.86</td>\n",
       "      <td>51.15</td>\n",
       "      <td>1</td>\n",
       "      <td>0.001575</td>\n",
       "    </tr>\n",
       "    <tr>\n",
       "      <th>2004-01-07</th>\n",
       "      <td>51.45</td>\n",
       "      <td>51.54</td>\n",
       "      <td>51.29</td>\n",
       "      <td>51.51</td>\n",
       "      <td>0</td>\n",
       "      <td>0.005865</td>\n",
       "    </tr>\n",
       "    <tr>\n",
       "      <th>2004-01-08</th>\n",
       "      <td>51.15</td>\n",
       "      <td>51.33</td>\n",
       "      <td>51.02</td>\n",
       "      <td>51.28</td>\n",
       "      <td>0</td>\n",
       "      <td>-0.006989</td>\n",
       "    </tr>\n",
       "  </tbody>\n",
       "</table>\n",
       "</div>"
      ],
      "text/plain": [
       "             Open   High    Low  Close  Up      Rate\n",
       "Date                                                \n",
       "2004-01-02  50.85  50.91  50.62  50.72   1  0.000000\n",
       "2004-01-05  50.75  50.84  50.61  50.79   1  0.000591\n",
       "2004-01-06  50.87  51.26  50.86  51.15   1  0.001575\n",
       "2004-01-07  51.45  51.54  51.29  51.51   0  0.005865\n",
       "2004-01-08  51.15  51.33  51.02  51.28   0 -0.006989"
      ]
     },
     "execution_count": 80,
     "metadata": {},
     "output_type": "execute_result"
    }
   ],
   "source": [
    "train.head()"
   ]
  },
  {
   "cell_type": "code",
   "execution_count": 81,
   "metadata": {},
   "outputs": [],
   "source": [
    "# closeを消去できるか確認\n",
    "# train_2 = train.drop(columns=[\"Close\"])\n",
    "# train_2.head()"
   ]
  },
  {
   "cell_type": "code",
   "execution_count": 106,
   "metadata": {},
   "outputs": [
    {
     "data": {
      "text/plain": [
       "Text(0.5, 1.0, '2010-2012')"
      ]
     },
     "execution_count": 106,
     "metadata": {},
     "output_type": "execute_result"
    },
    {
     "data": {
      "image/png": "[encoded data removed]",
      "text/plain": [
       "<Figure size 432x288 with 1 Axes>"
      ]
     },
     "metadata": {
      "needs_background": "light"
     },
     "output_type": "display_data"
    },
    {
     "data": {
      "image/png": "[encoded data removed]",
      "text/plain": [
       "<Figure size 432x288 with 1 Axes>"
      ]
     },
     "metadata": {
      "needs_background": "light"
     },
     "output_type": "display_data"
    },
    {
     "data": {
      "image/png": "[encoded data removed]",
      "text/plain": [
       "<Figure size 432x288 with 1 Axes>"
      ]
     },
     "metadata": {
      "needs_background": "light"
     },
     "output_type": "display_data"
    },
    {
     "data": {
      "image/png": "[encoded data removed]",
      "text/plain": [
       "<Figure size 432x288 with 1 Axes>"
      ]
     },
     "metadata": {
      "needs_background": "light"
     },
     "output_type": "display_data"
    }
   ],
   "source": [
    "# 特定のカラムの抽出\n",
    "\n",
    "train_plot = train[[\"Open\", \"High\", \"Low\", \"Close\"]]\n",
    "\n",
    "year1 = train_plot[\"2004-01-02\":\"2006-01-02\"]\n",
    "year1.plot(kind=\"line\")\n",
    "plt.title('2004-2006')\n",
    "\n",
    "year2 = train_plot[\"2006-01-02\":\"2008-01-02\"]\n",
    "year2.plot(kind=\"line\")\n",
    "plt.title('2006-2008')\n",
    "\n",
    "year3 = train_plot[\"2008-01-02\":\"2010-01-02\"]\n",
    "year3.plot(kind=\"line\")\n",
    "plt.title('2008-2010')\n",
    "\n",
    "year4 = train_plot[\"2010-01-02\":\"2012-01-02\"]\n",
    "year4.plot(kind=\"line\")\n",
    "plt.title('2010-2012')"
   ]
  },
  {
   "cell_type": "code",
   "execution_count": 107,
   "metadata": {},
   "outputs": [
    {
     "name": "stdout",
     "output_type": "stream",
     "text": [
      "0    257\n",
      "1    247\n",
      "Name: Up, dtype: int64\n"
     ]
    },
    {
     "data": {
      "image/png": "[encoded data removed]",
      "text/plain": [
       "<Figure size 432x288 with 1 Axes>"
      ]
     },
     "metadata": {
      "needs_background": "light"
     },
     "output_type": "display_data"
    }
   ],
   "source": [
    "train_year1 = train.loc[\"2004-01-02\":\"2006-01-02\"]\n",
    "train_year1.head()\n",
    "\n",
    "# データフレームからUpのみを抽出\n",
    "Up = train_year1['Up']\n",
    "\n",
    "# Upの出現数の確認\n",
    "print(Up.value_counts())\n",
    "\n",
    "# 株価の上昇回数の描画\n",
    "Up.plot(kind=\"line\")\n",
    "\n",
    "# 描画の実行\n",
    "plt.show()"
   ]
  },
  {
   "cell_type": "code",
   "execution_count": 84,
   "metadata": {},
   "outputs": [],
   "source": [
    "# X⇒説明変数、Y⇒目的変数\n",
    "X = train[[\"Open\", \"High\", \"Low\", \"Close\", \"Rate\"]]\n",
    "Y = train[\"Up\"]"
   ]
  },
  {
   "cell_type": "code",
   "execution_count": 85,
   "metadata": {},
   "outputs": [
    {
     "name": "stdout",
     "output_type": "stream",
     "text": [
      "(2026, 5)\n",
      "(2026,)\n"
     ]
    }
   ],
   "source": [
    "# 形状確認\n",
    "print(X.shape)\n",
    "print(Y.shape)"
   ]
  },
  {
   "cell_type": "code",
   "execution_count": 86,
   "metadata": {},
   "outputs": [],
   "source": [
    "# カテゴリー変数への展開\n",
    "from tensorflow.keras.utils import to_categorical\n",
    "\n",
    "Y1 = to_categorical(Y)"
   ]
  },
  {
   "cell_type": "code",
   "execution_count": 87,
   "metadata": {},
   "outputs": [
    {
     "name": "stdout",
     "output_type": "stream",
     "text": [
      "(2026, 2)\n",
      "(2026, 5)\n"
     ]
    }
   ],
   "source": [
    "# 形状の確認\n",
    "print(Y1.shape)\n",
    "print(X.shape)"
   ]
  },
  {
   "cell_type": "code",
   "execution_count": 88,
   "metadata": {},
   "outputs": [],
   "source": [
    "# 今回はカテゴリー変数は使用しない"
   ]
  },
  {
   "cell_type": "code",
   "execution_count": 89,
   "metadata": {},
   "outputs": [],
   "source": [
    "# データの分割\n",
    "X_train, X_test, Y_train, Y_test = train_test_split(X, Y, test_size=0.4, random_state=0)\n",
    "X_train, X_valid, Y_train, Y_valid = train_test_split(X_train, Y_train, test_size=0.3, random_state=0)"
   ]
  },
  {
   "cell_type": "code",
   "execution_count": 90,
   "metadata": {},
   "outputs": [
    {
     "name": "stdout",
     "output_type": "stream",
     "text": [
      "X_train: (850, 5) Y_train: (850,)\n",
      "X_test: (811, 5) Y_test: (811,)\n",
      "X_valid: (365, 5) Y_valid: (365,)\n"
     ]
    }
   ],
   "source": [
    "# 形状確認\n",
    "print(\"X_train:\", X_train.shape, \"Y_train:\", Y_train.shape)\n",
    "print(\"X_test:\", X_test.shape, \"Y_test:\", Y_test.shape)\n",
    "print(\"X_valid:\", X_valid.shape, \"Y_valid:\", Y_valid.shape)"
   ]
  },
  {
   "cell_type": "code",
   "execution_count": 91,
   "metadata": {},
   "outputs": [],
   "source": [
    "# 先頭1～5列、2～6列、3～7列と5日間事で未来値を予測。データを分散化することでより精度よく予測を行うことが出来る。\n",
    "\n",
    "\n",
    "def get_standardized(X, n):\n",
    "    X = np.array(X)\n",
    "    X_t_list = []\n",
    "    for i in range(len(X) - n + 1):\n",
    "        X_t = X[i:i+n, :]\n",
    "        scaler = StandardScaler()\n",
    "        X_standardized = scaler.fit_transform(X_t)\n",
    "        X_t_list.append(X_standardized)\n",
    "    return np.array(X_t_list) # ここはリスト化したX_t_listを使用する\n",
    "\n",
    "n = 5 # number_data⇒略でnと表示\n",
    "\n",
    "X_train_t = get_standardized(X=X_train, n=n)\n",
    "X_test_t = get_standardized(X=X_test, n=n)\n",
    "X_valid_t = get_standardized(X=X_valid, n=n)\n",
    "\n",
    "Y_train_t = Y_train[n-1 :]\n",
    "Y_test_t = Y_test[n-1 :]\n",
    "Y_valid_t = Y_valid[n-1 :]\n"
   ]
  },
  {
   "cell_type": "code",
   "execution_count": 92,
   "metadata": {},
   "outputs": [
    {
     "name": "stdout",
     "output_type": "stream",
     "text": [
      "X_train_t: (846, 5, 5) Y_train_t: (846,)\n",
      "X_test_t: (807, 5, 5) Y_test_t: (807,)\n",
      "X_valid_t: (361, 5, 5) Y_valid_t: (361,)\n"
     ]
    }
   ],
   "source": [
    "# 形状確認\n",
    "print(\"X_train_t:\", X_train_t.shape, \"Y_train_t:\", Y_train_t.shape)\n",
    "print(\"X_test_t:\", X_test_t.shape, \"Y_test_t:\", Y_test_t.shape)\n",
    "print(\"X_valid_t:\", X_valid_t.shape, \"Y_valid_t:\", Y_valid_t.shape)"
   ]
  },
  {
   "cell_type": "code",
   "execution_count": 93,
   "metadata": {},
   "outputs": [
    {
     "name": "stdout",
     "output_type": "stream",
     "text": [
      "Epoch 1/80\n",
      "31/31 [==============================] - 1s 31ms/step - loss: 0.6910 - accuracy: 0.5213 - val_loss: 0.6870 - val_accuracy: 0.5291\n",
      "Epoch 2/80\n",
      "31/31 [==============================] - 0s 4ms/step - loss: 0.6848 - accuracy: 0.5650 - val_loss: 0.6860 - val_accuracy: 0.5623\n",
      "Epoch 3/80\n",
      "31/31 [==============================] - 0s 4ms/step - loss: 0.6834 - accuracy: 0.5591 - val_loss: 0.6864 - val_accuracy: 0.5402\n",
      "Epoch 4/80\n",
      "31/31 [==============================] - 0s 4ms/step - loss: 0.6804 - accuracy: 0.5827 - val_loss: 0.6835 - val_accuracy: 0.5457\n",
      "Epoch 5/80\n",
      "31/31 [==============================] - 0s 4ms/step - loss: 0.6779 - accuracy: 0.5898 - val_loss: 0.6819 - val_accuracy: 0.5402\n",
      "Epoch 6/80\n",
      "31/31 [==============================] - 0s 4ms/step - loss: 0.6757 - accuracy: 0.5922 - val_loss: 0.6825 - val_accuracy: 0.5319\n",
      "Epoch 7/80\n",
      "31/31 [==============================] - 0s 4ms/step - loss: 0.6735 - accuracy: 0.5851 - val_loss: 0.6774 - val_accuracy: 0.5512\n",
      "Epoch 8/80\n",
      "31/31 [==============================] - 0s 4ms/step - loss: 0.6698 - accuracy: 0.5839 - val_loss: 0.6751 - val_accuracy: 0.5568\n",
      "Epoch 9/80\n",
      "31/31 [==============================] - 0s 4ms/step - loss: 0.6687 - accuracy: 0.5957 - val_loss: 0.6763 - val_accuracy: 0.5679\n",
      "Epoch 10/80\n",
      "31/31 [==============================] - 0s 4ms/step - loss: 0.6662 - accuracy: 0.6028 - val_loss: 0.6752 - val_accuracy: 0.5706\n",
      "Epoch 11/80\n",
      "31/31 [==============================] - 0s 4ms/step - loss: 0.6648 - accuracy: 0.6147 - val_loss: 0.6767 - val_accuracy: 0.5651\n",
      "Epoch 12/80\n",
      "31/31 [==============================] - 0s 4ms/step - loss: 0.6642 - accuracy: 0.6135 - val_loss: 0.6770 - val_accuracy: 0.5706\n",
      "Epoch 13/80\n",
      "31/31 [==============================] - 0s 4ms/step - loss: 0.6625 - accuracy: 0.6194 - val_loss: 0.6813 - val_accuracy: 0.5457\n",
      "Epoch 14/80\n",
      "31/31 [==============================] - 0s 4ms/step - loss: 0.6625 - accuracy: 0.6147 - val_loss: 0.6801 - val_accuracy: 0.5623\n",
      "Epoch 15/80\n",
      "31/31 [==============================] - 0s 4ms/step - loss: 0.6591 - accuracy: 0.6135 - val_loss: 0.6773 - val_accuracy: 0.5596\n",
      "Epoch 16/80\n",
      "31/31 [==============================] - 0s 4ms/step - loss: 0.6573 - accuracy: 0.6182 - val_loss: 0.6811 - val_accuracy: 0.5651\n",
      "Epoch 17/80\n",
      "31/31 [==============================] - 0s 4ms/step - loss: 0.6574 - accuracy: 0.6099 - val_loss: 0.6789 - val_accuracy: 0.5706\n",
      "Epoch 18/80\n",
      "31/31 [==============================] - 0s 4ms/step - loss: 0.6565 - accuracy: 0.6170 - val_loss: 0.6802 - val_accuracy: 0.5651\n",
      "Epoch 19/80\n",
      "31/31 [==============================] - 0s 4ms/step - loss: 0.6536 - accuracy: 0.6217 - val_loss: 0.6821 - val_accuracy: 0.5540\n",
      "Epoch 20/80\n",
      "31/31 [==============================] - 0s 4ms/step - loss: 0.6495 - accuracy: 0.6336 - val_loss: 0.6862 - val_accuracy: 0.5651\n",
      "Epoch 21/80\n",
      "31/31 [==============================] - 0s 4ms/step - loss: 0.6465 - accuracy: 0.6383 - val_loss: 0.6867 - val_accuracy: 0.5568\n",
      "Epoch 22/80\n",
      "31/31 [==============================] - 0s 4ms/step - loss: 0.6461 - accuracy: 0.6300 - val_loss: 0.6906 - val_accuracy: 0.5679\n",
      "Epoch 23/80\n",
      "31/31 [==============================] - 0s 4ms/step - loss: 0.6435 - accuracy: 0.6288 - val_loss: 0.6922 - val_accuracy: 0.5679\n",
      "Epoch 24/80\n",
      "31/31 [==============================] - 0s 4ms/step - loss: 0.6417 - accuracy: 0.6407 - val_loss: 0.6922 - val_accuracy: 0.5623\n",
      "Epoch 25/80\n",
      "31/31 [==============================] - 0s 4ms/step - loss: 0.6414 - accuracy: 0.6430 - val_loss: 0.6933 - val_accuracy: 0.5623\n",
      "Epoch 26/80\n",
      "31/31 [==============================] - 0s 4ms/step - loss: 0.6383 - accuracy: 0.6430 - val_loss: 0.6979 - val_accuracy: 0.5402\n",
      "Epoch 27/80\n",
      "31/31 [==============================] - 0s 4ms/step - loss: 0.6329 - accuracy: 0.6466 - val_loss: 0.7042 - val_accuracy: 0.5679\n",
      "Epoch 28/80\n",
      "31/31 [==============================] - 0s 4ms/step - loss: 0.6270 - accuracy: 0.6572 - val_loss: 0.7029 - val_accuracy: 0.5789\n",
      "Epoch 29/80\n",
      "31/31 [==============================] - 0s 4ms/step - loss: 0.6259 - accuracy: 0.6525 - val_loss: 0.7099 - val_accuracy: 0.5679\n",
      "Epoch 30/80\n",
      "31/31 [==============================] - 0s 4ms/step - loss: 0.6213 - accuracy: 0.6631 - val_loss: 0.7110 - val_accuracy: 0.5485\n",
      "Epoch 31/80\n",
      "31/31 [==============================] - 0s 4ms/step - loss: 0.6162 - accuracy: 0.6749 - val_loss: 0.7156 - val_accuracy: 0.5651\n",
      "Epoch 32/80\n",
      "31/31 [==============================] - 0s 4ms/step - loss: 0.6158 - accuracy: 0.6667 - val_loss: 0.7116 - val_accuracy: 0.5485\n",
      "Epoch 33/80\n",
      "31/31 [==============================] - 0s 4ms/step - loss: 0.6053 - accuracy: 0.6809 - val_loss: 0.7297 - val_accuracy: 0.5679\n",
      "Epoch 34/80\n",
      "31/31 [==============================] - 0s 4ms/step - loss: 0.5965 - accuracy: 0.6950 - val_loss: 0.7352 - val_accuracy: 0.5651\n",
      "Epoch 35/80\n",
      "31/31 [==============================] - 0s 4ms/step - loss: 0.5952 - accuracy: 0.6962 - val_loss: 0.7412 - val_accuracy: 0.5651\n",
      "Epoch 36/80\n",
      "31/31 [==============================] - 0s 4ms/step - loss: 0.5878 - accuracy: 0.6891 - val_loss: 0.7414 - val_accuracy: 0.5429\n",
      "Epoch 37/80\n",
      "31/31 [==============================] - 0s 4ms/step - loss: 0.5779 - accuracy: 0.7045 - val_loss: 0.7543 - val_accuracy: 0.5568\n",
      "Epoch 38/80\n",
      "31/31 [==============================] - 0s 4ms/step - loss: 0.5674 - accuracy: 0.7175 - val_loss: 0.7668 - val_accuracy: 0.5374\n",
      "Epoch 39/80\n",
      "31/31 [==============================] - 0s 4ms/step - loss: 0.5574 - accuracy: 0.7139 - val_loss: 0.7811 - val_accuracy: 0.5540\n",
      "Epoch 40/80\n",
      "31/31 [==============================] - 0s 4ms/step - loss: 0.5551 - accuracy: 0.7116 - val_loss: 0.7991 - val_accuracy: 0.5540\n",
      "Epoch 41/80\n",
      "31/31 [==============================] - 0s 4ms/step - loss: 0.5457 - accuracy: 0.7317 - val_loss: 0.7926 - val_accuracy: 0.5042\n",
      "Epoch 42/80\n",
      "31/31 [==============================] - 0s 4ms/step - loss: 0.5353 - accuracy: 0.7293 - val_loss: 0.8078 - val_accuracy: 0.5235\n",
      "Epoch 43/80\n",
      "31/31 [==============================] - 0s 4ms/step - loss: 0.5228 - accuracy: 0.7494 - val_loss: 0.8060 - val_accuracy: 0.5042\n",
      "Epoch 44/80\n",
      "31/31 [==============================] - 0s 4ms/step - loss: 0.5100 - accuracy: 0.7459 - val_loss: 0.8517 - val_accuracy: 0.5097\n",
      "Epoch 45/80\n",
      "31/31 [==============================] - 0s 4ms/step - loss: 0.5040 - accuracy: 0.7482 - val_loss: 0.8755 - val_accuracy: 0.5180\n",
      "Epoch 46/80\n",
      "31/31 [==============================] - 0s 4ms/step - loss: 0.4965 - accuracy: 0.7660 - val_loss: 0.8580 - val_accuracy: 0.5042\n",
      "Epoch 47/80\n",
      "31/31 [==============================] - 0s 4ms/step - loss: 0.4739 - accuracy: 0.7754 - val_loss: 0.8963 - val_accuracy: 0.5291\n",
      "Epoch 48/80\n",
      "31/31 [==============================] - 0s 4ms/step - loss: 0.4592 - accuracy: 0.7825 - val_loss: 0.9148 - val_accuracy: 0.5457\n",
      "Epoch 49/80\n",
      "31/31 [==============================] - 0s 4ms/step - loss: 0.4499 - accuracy: 0.7849 - val_loss: 0.9196 - val_accuracy: 0.5125\n",
      "Epoch 50/80\n",
      "31/31 [==============================] - 0s 4ms/step - loss: 0.4273 - accuracy: 0.8097 - val_loss: 0.9451 - val_accuracy: 0.5042\n",
      "Epoch 51/80\n",
      "31/31 [==============================] - 0s 4ms/step - loss: 0.4146 - accuracy: 0.8239 - val_loss: 0.9438 - val_accuracy: 0.4986\n",
      "Epoch 52/80\n",
      "31/31 [==============================] - 0s 4ms/step - loss: 0.3976 - accuracy: 0.8203 - val_loss: 0.9961 - val_accuracy: 0.5540\n",
      "Epoch 53/80\n",
      "31/31 [==============================] - 0s 4ms/step - loss: 0.3834 - accuracy: 0.8310 - val_loss: 1.0080 - val_accuracy: 0.5069\n",
      "Epoch 54/80\n",
      "31/31 [==============================] - 0s 4ms/step - loss: 0.3626 - accuracy: 0.8475 - val_loss: 0.9868 - val_accuracy: 0.5069\n",
      "Epoch 55/80\n",
      "31/31 [==============================] - 0s 4ms/step - loss: 0.3468 - accuracy: 0.8499 - val_loss: 1.0345 - val_accuracy: 0.5097\n",
      "Epoch 56/80\n",
      "31/31 [==============================] - 0s 4ms/step - loss: 0.3295 - accuracy: 0.8712 - val_loss: 1.0810 - val_accuracy: 0.5208\n",
      "Epoch 57/80\n",
      "31/31 [==============================] - 0s 4ms/step - loss: 0.3158 - accuracy: 0.8712 - val_loss: 1.1342 - val_accuracy: 0.5014\n",
      "Epoch 58/80\n",
      "31/31 [==============================] - 0s 4ms/step - loss: 0.3011 - accuracy: 0.8830 - val_loss: 1.1522 - val_accuracy: 0.5291\n",
      "Epoch 59/80\n",
      "31/31 [==============================] - 0s 4ms/step - loss: 0.2785 - accuracy: 0.8960 - val_loss: 1.1630 - val_accuracy: 0.5263\n",
      "Epoch 60/80\n",
      "31/31 [==============================] - 0s 4ms/step - loss: 0.2608 - accuracy: 0.9031 - val_loss: 1.2452 - val_accuracy: 0.5208\n",
      "Epoch 61/80\n",
      "31/31 [==============================] - 0s 4ms/step - loss: 0.2443 - accuracy: 0.9113 - val_loss: 1.2378 - val_accuracy: 0.5319\n",
      "Epoch 62/80\n",
      "31/31 [==============================] - 0s 4ms/step - loss: 0.2229 - accuracy: 0.9326 - val_loss: 1.2881 - val_accuracy: 0.5319\n",
      "Epoch 63/80\n",
      "31/31 [==============================] - 0s 4ms/step - loss: 0.2065 - accuracy: 0.9468 - val_loss: 1.3354 - val_accuracy: 0.5180\n",
      "Epoch 64/80\n",
      "31/31 [==============================] - 0s 4ms/step - loss: 0.1920 - accuracy: 0.9444 - val_loss: 1.3808 - val_accuracy: 0.5346\n",
      "Epoch 65/80\n",
      "31/31 [==============================] - 0s 4ms/step - loss: 0.1766 - accuracy: 0.9527 - val_loss: 1.4572 - val_accuracy: 0.4903\n",
      "Epoch 66/80\n",
      "31/31 [==============================] - 0s 4ms/step - loss: 0.1645 - accuracy: 0.9610 - val_loss: 1.4935 - val_accuracy: 0.5180\n",
      "Epoch 67/80\n",
      "31/31 [==============================] - 0s 4ms/step - loss: 0.1574 - accuracy: 0.9634 - val_loss: 1.5087 - val_accuracy: 0.5097\n",
      "Epoch 68/80\n",
      "31/31 [==============================] - 0s 4ms/step - loss: 0.1370 - accuracy: 0.9704 - val_loss: 1.5949 - val_accuracy: 0.4958\n",
      "Epoch 69/80\n",
      "31/31 [==============================] - 0s 4ms/step - loss: 0.1201 - accuracy: 0.9811 - val_loss: 1.6555 - val_accuracy: 0.4986\n",
      "Epoch 70/80\n",
      "31/31 [==============================] - 0s 4ms/step - loss: 0.1082 - accuracy: 0.9811 - val_loss: 1.7049 - val_accuracy: 0.5042\n",
      "Epoch 71/80\n",
      "31/31 [==============================] - 0s 4ms/step - loss: 0.1051 - accuracy: 0.9787 - val_loss: 1.7323 - val_accuracy: 0.5069\n",
      "Epoch 72/80\n",
      "31/31 [==============================] - 0s 4ms/step - loss: 0.0901 - accuracy: 0.9894 - val_loss: 1.7444 - val_accuracy: 0.5042\n",
      "Epoch 73/80\n",
      "31/31 [==============================] - 0s 4ms/step - loss: 0.0813 - accuracy: 0.9905 - val_loss: 1.8535 - val_accuracy: 0.5069\n",
      "Epoch 74/80\n",
      "31/31 [==============================] - 0s 4ms/step - loss: 0.0738 - accuracy: 0.9929 - val_loss: 1.8524 - val_accuracy: 0.5180\n",
      "Epoch 75/80\n",
      "31/31 [==============================] - 0s 4ms/step - loss: 0.0686 - accuracy: 0.9917 - val_loss: 1.9267 - val_accuracy: 0.4820\n",
      "Epoch 76/80\n",
      "31/31 [==============================] - 0s 4ms/step - loss: 0.0573 - accuracy: 0.9965 - val_loss: 1.9765 - val_accuracy: 0.4792\n",
      "Epoch 77/80\n",
      "31/31 [==============================] - 0s 4ms/step - loss: 0.0559 - accuracy: 0.9953 - val_loss: 2.0171 - val_accuracy: 0.4931\n",
      "Epoch 78/80\n",
      "31/31 [==============================] - 0s 4ms/step - loss: 0.0552 - accuracy: 0.9953 - val_loss: 2.0195 - val_accuracy: 0.4903\n",
      "Epoch 79/80\n",
      "31/31 [==============================] - 0s 4ms/step - loss: 0.0481 - accuracy: 0.9988 - val_loss: 2.0690 - val_accuracy: 0.4875\n",
      "Epoch 80/80\n",
      "31/31 [==============================] - 0s 4ms/step - loss: 0.0440 - accuracy: 0.9953 - val_loss: 2.1402 - val_accuracy: 0.4875\n"
     ]
    }
   ],
   "source": [
    "# ネットワークの各層のサイズの定義\n",
    "num_l1 = 100\n",
    "num_l2 = 15\n",
    "num_output = 1\n",
    "\n",
    "# 以下、ネットワークを構築\n",
    "model = Sequential()\n",
    "# 第1層\n",
    "model.add(LSTM(units=num_l1,\n",
    "                activation='tanh',\n",
    "                batch_input_shape=(None, X_train_t.shape[1], X_train_t.shape[2])))\n",
    "# 第2層\n",
    "model.add(Dense(num_l2, activation='relu'))\n",
    "# 出力層\n",
    "model.add(Dense(num_output, activation='sigmoid'))\n",
    "# ネットワークのコンパイル\n",
    "model.compile(loss='binary_crossentropy', optimizer='adam', metrics=['accuracy'])\n",
    "\n",
    "# モデルの学習の実行（学習の完了までには数秒から数十秒ほど時間がかかります。）\n",
    "log = model.fit(x=X_train_t, y=Y_train_t, epochs=80, batch_size=28, validation_data=(X_valid_t, Y_valid_t))\n"
   ]
  },
  {
   "cell_type": "code",
   "execution_count": 94,
   "metadata": {},
   "outputs": [
    {
     "data": {
      "image/png": "[encoded data removed]",
      "text/plain": [
       "<Figure size 432x288 with 1 Axes>"
      ]
     },
     "metadata": {
      "needs_background": "light"
     },
     "output_type": "display_data"
    }
   ],
   "source": [
    "plt.plot(log.history['loss'], label='loss')\n",
    "plt.plot(log.history['val_loss'], label='val_loss')\n",
    "plt.legend(frameon=False)\n",
    "plt.xlabel(\"epochs\")\n",
    "plt.ylabel(\"crossentropy\")\n",
    "plt.show()"
   ]
  },
  {
   "cell_type": "code",
   "execution_count": 95,
   "metadata": {},
   "outputs": [],
   "source": [
    "Y_pred = model.predict(X_test_t)\n"
   ]
  },
  {
   "cell_type": "code",
   "execution_count": 96,
   "metadata": {},
   "outputs": [
    {
     "data": {
      "text/plain": [
       "Date\n",
       "2008-10-08    1\n",
       "2004-08-05    0\n",
       "2007-09-10    1\n",
       "2004-11-30    1\n",
       "2009-01-15    1\n",
       "             ..\n",
       "2007-11-28    0\n",
       "2009-05-29    1\n",
       "2011-03-29    1\n",
       "2010-12-23    0\n",
       "2008-12-12    1\n",
       "Name: Up, Length: 807, dtype: int64"
      ]
     },
     "execution_count": 96,
     "metadata": {},
     "output_type": "execute_result"
    }
   ],
   "source": [
    "Y_test_t"
   ]
  },
  {
   "cell_type": "code",
   "execution_count": 97,
   "metadata": {},
   "outputs": [
    {
     "name": "stdout",
     "output_type": "stream",
     "text": [
      "26/26 [==============================] - 0s 1ms/step - loss: 2.3902 - accuracy: 0.4969\n",
      "評価データの正解率: 0.49690210819244385\n"
     ]
    }
   ],
   "source": [
    "loss, accuracy = model.evaluate(X_test_t, Y_test_t)\n",
    "\n",
    "# 評価データの正解率の表示\n",
    "print('評価データの正解率:', accuracy)"
   ]
  },
  {
   "cell_type": "code",
   "execution_count": 99,
   "metadata": {},
   "outputs": [
    {
     "name": "stdout",
     "output_type": "stream",
     "text": [
      "Epoch 1/80\n",
      "36/36 [==============================] - 1s 18ms/step - loss: 0.6932 - accuracy: 0.5071 - val_loss: 0.6889 - val_accuracy: 0.5208\n",
      "Epoch 2/80\n",
      "36/36 [==============================] - 0s 4ms/step - loss: 0.6869 - accuracy: 0.5461 - val_loss: 0.6856 - val_accuracy: 0.5374\n",
      "Epoch 3/80\n",
      "36/36 [==============================] - 0s 4ms/step - loss: 0.6823 - accuracy: 0.5697 - val_loss: 0.6838 - val_accuracy: 0.5402\n",
      "Epoch 4/80\n",
      "36/36 [==============================] - 0s 4ms/step - loss: 0.6805 - accuracy: 0.5733 - val_loss: 0.6834 - val_accuracy: 0.5402\n",
      "Epoch 5/80\n",
      "36/36 [==============================] - 0s 4ms/step - loss: 0.6803 - accuracy: 0.5780 - val_loss: 0.6817 - val_accuracy: 0.5402\n",
      "Epoch 6/80\n",
      "36/36 [==============================] - 0s 4ms/step - loss: 0.6711 - accuracy: 0.5898 - val_loss: 0.6778 - val_accuracy: 0.5374\n",
      "Epoch 7/80\n",
      "36/36 [==============================] - 0s 4ms/step - loss: 0.6675 - accuracy: 0.6064 - val_loss: 0.6765 - val_accuracy: 0.5402\n",
      "Epoch 8/80\n",
      "36/36 [==============================] - 0s 4ms/step - loss: 0.6750 - accuracy: 0.6040 - val_loss: 0.6774 - val_accuracy: 0.5512\n",
      "Epoch 9/80\n",
      "36/36 [==============================] - 0s 4ms/step - loss: 0.6758 - accuracy: 0.5910 - val_loss: 0.6779 - val_accuracy: 0.5512\n",
      "Epoch 10/80\n",
      "36/36 [==============================] - 0s 4ms/step - loss: 0.6721 - accuracy: 0.5839 - val_loss: 0.6783 - val_accuracy: 0.5596\n",
      "Epoch 11/80\n",
      "36/36 [==============================] - 0s 4ms/step - loss: 0.6744 - accuracy: 0.5969 - val_loss: 0.6766 - val_accuracy: 0.5485\n",
      "Epoch 12/80\n",
      "36/36 [==============================] - 0s 4ms/step - loss: 0.6710 - accuracy: 0.6017 - val_loss: 0.6777 - val_accuracy: 0.5623\n",
      "Epoch 13/80\n",
      "36/36 [==============================] - 0s 4ms/step - loss: 0.6684 - accuracy: 0.5981 - val_loss: 0.6783 - val_accuracy: 0.5540\n",
      "Epoch 14/80\n",
      "36/36 [==============================] - 0s 4ms/step - loss: 0.6712 - accuracy: 0.5981 - val_loss: 0.6791 - val_accuracy: 0.5623\n",
      "Epoch 15/80\n",
      "36/36 [==============================] - 0s 4ms/step - loss: 0.6654 - accuracy: 0.6087 - val_loss: 0.6787 - val_accuracy: 0.5596\n",
      "Epoch 16/80\n",
      "36/36 [==============================] - 0s 4ms/step - loss: 0.6608 - accuracy: 0.6052 - val_loss: 0.6802 - val_accuracy: 0.5540\n",
      "Epoch 17/80\n",
      "36/36 [==============================] - 0s 4ms/step - loss: 0.6601 - accuracy: 0.6147 - val_loss: 0.6806 - val_accuracy: 0.5762\n",
      "Epoch 18/80\n",
      "36/36 [==============================] - 0s 4ms/step - loss: 0.6625 - accuracy: 0.6052 - val_loss: 0.6831 - val_accuracy: 0.5734\n",
      "Epoch 19/80\n",
      "36/36 [==============================] - 0s 4ms/step - loss: 0.6630 - accuracy: 0.6111 - val_loss: 0.6819 - val_accuracy: 0.5706\n",
      "Epoch 20/80\n",
      "36/36 [==============================] - 0s 4ms/step - loss: 0.6611 - accuracy: 0.6087 - val_loss: 0.6824 - val_accuracy: 0.5762\n",
      "Epoch 21/80\n",
      "36/36 [==============================] - 0s 4ms/step - loss: 0.6555 - accuracy: 0.6005 - val_loss: 0.6875 - val_accuracy: 0.5873\n",
      "Epoch 22/80\n",
      "36/36 [==============================] - 0s 4ms/step - loss: 0.6575 - accuracy: 0.6158 - val_loss: 0.6844 - val_accuracy: 0.5762\n",
      "Epoch 23/80\n",
      "36/36 [==============================] - 0s 4ms/step - loss: 0.6543 - accuracy: 0.6217 - val_loss: 0.6905 - val_accuracy: 0.5845\n",
      "Epoch 24/80\n",
      "36/36 [==============================] - 0s 4ms/step - loss: 0.6579 - accuracy: 0.6087 - val_loss: 0.6899 - val_accuracy: 0.5845\n",
      "Epoch 25/80\n",
      "36/36 [==============================] - 0s 4ms/step - loss: 0.6534 - accuracy: 0.6170 - val_loss: 0.6910 - val_accuracy: 0.5817\n",
      "Epoch 26/80\n",
      "36/36 [==============================] - 0s 4ms/step - loss: 0.6518 - accuracy: 0.6111 - val_loss: 0.6992 - val_accuracy: 0.5762\n",
      "Epoch 27/80\n",
      "36/36 [==============================] - 0s 4ms/step - loss: 0.6614 - accuracy: 0.6194 - val_loss: 0.6930 - val_accuracy: 0.5845\n",
      "Epoch 28/80\n",
      "36/36 [==============================] - 0s 4ms/step - loss: 0.6523 - accuracy: 0.6087 - val_loss: 0.6924 - val_accuracy: 0.5762\n",
      "Epoch 29/80\n",
      "36/36 [==============================] - 0s 4ms/step - loss: 0.6598 - accuracy: 0.6194 - val_loss: 0.6940 - val_accuracy: 0.5845\n",
      "Epoch 30/80\n",
      "36/36 [==============================] - 0s 4ms/step - loss: 0.6505 - accuracy: 0.6241 - val_loss: 0.6956 - val_accuracy: 0.5873\n",
      "Epoch 31/80\n",
      "36/36 [==============================] - 0s 4ms/step - loss: 0.6510 - accuracy: 0.6253 - val_loss: 0.6988 - val_accuracy: 0.5900\n",
      "Epoch 32/80\n",
      "36/36 [==============================] - 0s 4ms/step - loss: 0.6490 - accuracy: 0.6489 - val_loss: 0.7012 - val_accuracy: 0.5873\n",
      "Epoch 33/80\n",
      "36/36 [==============================] - 0s 4ms/step - loss: 0.6448 - accuracy: 0.6206 - val_loss: 0.7040 - val_accuracy: 0.5873\n",
      "Epoch 34/80\n",
      "36/36 [==============================] - 0s 4ms/step - loss: 0.6418 - accuracy: 0.6336 - val_loss: 0.7023 - val_accuracy: 0.5817\n",
      "Epoch 35/80\n",
      "36/36 [==============================] - 0s 4ms/step - loss: 0.6480 - accuracy: 0.6158 - val_loss: 0.7033 - val_accuracy: 0.5706\n",
      "Epoch 36/80\n",
      "36/36 [==============================] - 0s 4ms/step - loss: 0.6466 - accuracy: 0.6288 - val_loss: 0.7050 - val_accuracy: 0.5651\n",
      "Epoch 37/80\n",
      "36/36 [==============================] - 0s 4ms/step - loss: 0.6429 - accuracy: 0.6336 - val_loss: 0.7009 - val_accuracy: 0.5734\n",
      "Epoch 38/80\n",
      "36/36 [==============================] - 0s 4ms/step - loss: 0.6386 - accuracy: 0.6537 - val_loss: 0.7083 - val_accuracy: 0.5817\n",
      "Epoch 39/80\n",
      "36/36 [==============================] - 0s 4ms/step - loss: 0.6260 - accuracy: 0.6312 - val_loss: 0.7085 - val_accuracy: 0.5900\n",
      "Epoch 40/80\n",
      "36/36 [==============================] - 0s 4ms/step - loss: 0.6276 - accuracy: 0.6478 - val_loss: 0.7111 - val_accuracy: 0.5817\n",
      "Epoch 41/80\n",
      "36/36 [==============================] - 0s 4ms/step - loss: 0.6323 - accuracy: 0.6430 - val_loss: 0.7172 - val_accuracy: 0.5928\n",
      "Epoch 42/80\n",
      "36/36 [==============================] - 0s 4ms/step - loss: 0.6233 - accuracy: 0.6418 - val_loss: 0.7261 - val_accuracy: 0.5679\n",
      "Epoch 43/80\n",
      "36/36 [==============================] - 0s 4ms/step - loss: 0.6288 - accuracy: 0.6466 - val_loss: 0.7261 - val_accuracy: 0.5817\n",
      "Epoch 44/80\n",
      "36/36 [==============================] - 0s 4ms/step - loss: 0.6185 - accuracy: 0.6466 - val_loss: 0.7416 - val_accuracy: 0.5762\n",
      "Epoch 45/80\n",
      "36/36 [==============================] - 0s 4ms/step - loss: 0.6293 - accuracy: 0.6300 - val_loss: 0.7365 - val_accuracy: 0.5679\n",
      "Epoch 46/80\n",
      "36/36 [==============================] - 0s 4ms/step - loss: 0.6202 - accuracy: 0.6442 - val_loss: 0.7290 - val_accuracy: 0.5568\n",
      "Epoch 47/80\n",
      "36/36 [==============================] - 0s 4ms/step - loss: 0.6110 - accuracy: 0.6525 - val_loss: 0.7327 - val_accuracy: 0.5651\n",
      "Epoch 48/80\n",
      "36/36 [==============================] - 0s 4ms/step - loss: 0.6201 - accuracy: 0.6359 - val_loss: 0.7322 - val_accuracy: 0.5651\n",
      "Epoch 49/80\n",
      "36/36 [==============================] - 0s 4ms/step - loss: 0.6133 - accuracy: 0.6442 - val_loss: 0.7493 - val_accuracy: 0.5706\n",
      "Epoch 50/80\n",
      "36/36 [==============================] - 0s 4ms/step - loss: 0.6219 - accuracy: 0.6596 - val_loss: 0.7474 - val_accuracy: 0.5734\n",
      "Epoch 51/80\n",
      "36/36 [==============================] - 0s 4ms/step - loss: 0.6046 - accuracy: 0.6478 - val_loss: 0.7451 - val_accuracy: 0.5679\n",
      "Epoch 52/80\n",
      "36/36 [==============================] - 0s 4ms/step - loss: 0.6044 - accuracy: 0.6513 - val_loss: 0.7494 - val_accuracy: 0.5596\n",
      "Epoch 53/80\n",
      "36/36 [==============================] - 0s 4ms/step - loss: 0.6034 - accuracy: 0.6537 - val_loss: 0.7546 - val_accuracy: 0.5596\n",
      "Epoch 54/80\n",
      "36/36 [==============================] - 0s 4ms/step - loss: 0.5974 - accuracy: 0.6749 - val_loss: 0.7824 - val_accuracy: 0.5568\n",
      "Epoch 55/80\n",
      "36/36 [==============================] - 0s 4ms/step - loss: 0.5944 - accuracy: 0.6678 - val_loss: 0.7758 - val_accuracy: 0.5651\n",
      "Epoch 56/80\n",
      "36/36 [==============================] - 0s 4ms/step - loss: 0.5849 - accuracy: 0.6619 - val_loss: 0.7853 - val_accuracy: 0.5651\n",
      "Epoch 57/80\n",
      "36/36 [==============================] - 0s 4ms/step - loss: 0.5873 - accuracy: 0.6667 - val_loss: 0.7723 - val_accuracy: 0.5651\n",
      "Epoch 58/80\n",
      "36/36 [==============================] - 0s 4ms/step - loss: 0.5817 - accuracy: 0.6726 - val_loss: 0.8102 - val_accuracy: 0.5540\n",
      "Epoch 59/80\n",
      "36/36 [==============================] - 0s 4ms/step - loss: 0.5858 - accuracy: 0.6761 - val_loss: 0.8021 - val_accuracy: 0.5568\n",
      "Epoch 60/80\n",
      "36/36 [==============================] - 0s 4ms/step - loss: 0.5710 - accuracy: 0.6690 - val_loss: 0.8253 - val_accuracy: 0.5596\n",
      "Epoch 61/80\n",
      "36/36 [==============================] - 0s 4ms/step - loss: 0.5742 - accuracy: 0.6631 - val_loss: 0.7594 - val_accuracy: 0.5568\n",
      "Epoch 62/80\n",
      "36/36 [==============================] - 0s 4ms/step - loss: 0.5721 - accuracy: 0.6738 - val_loss: 0.8038 - val_accuracy: 0.5512\n",
      "Epoch 63/80\n",
      "36/36 [==============================] - 0s 4ms/step - loss: 0.5641 - accuracy: 0.6879 - val_loss: 0.8054 - val_accuracy: 0.5568\n",
      "Epoch 64/80\n",
      "36/36 [==============================] - 0s 4ms/step - loss: 0.5457 - accuracy: 0.6844 - val_loss: 0.8136 - val_accuracy: 0.5734\n",
      "Epoch 65/80\n",
      "36/36 [==============================] - 0s 4ms/step - loss: 0.5537 - accuracy: 0.6832 - val_loss: 0.7991 - val_accuracy: 0.5789\n",
      "Epoch 66/80\n",
      "36/36 [==============================] - 0s 4ms/step - loss: 0.5480 - accuracy: 0.6950 - val_loss: 0.8407 - val_accuracy: 0.5512\n",
      "Epoch 67/80\n",
      "36/36 [==============================] - 0s 4ms/step - loss: 0.5458 - accuracy: 0.6950 - val_loss: 0.8362 - val_accuracy: 0.5623\n",
      "Epoch 68/80\n",
      "36/36 [==============================] - 0s 4ms/step - loss: 0.5414 - accuracy: 0.6903 - val_loss: 0.8755 - val_accuracy: 0.5817\n",
      "Epoch 69/80\n",
      "36/36 [==============================] - 0s 4ms/step - loss: 0.5416 - accuracy: 0.6986 - val_loss: 0.8267 - val_accuracy: 0.5762\n",
      "Epoch 70/80\n",
      "36/36 [==============================] - 0s 4ms/step - loss: 0.5306 - accuracy: 0.7021 - val_loss: 0.8878 - val_accuracy: 0.5789\n",
      "Epoch 71/80\n",
      "36/36 [==============================] - 0s 4ms/step - loss: 0.5301 - accuracy: 0.7009 - val_loss: 0.8855 - val_accuracy: 0.5596\n",
      "Epoch 72/80\n",
      "36/36 [==============================] - 0s 4ms/step - loss: 0.5239 - accuracy: 0.7104 - val_loss: 0.9210 - val_accuracy: 0.5789\n",
      "Epoch 73/80\n",
      "36/36 [==============================] - 0s 4ms/step - loss: 0.5244 - accuracy: 0.7151 - val_loss: 0.9157 - val_accuracy: 0.5789\n",
      "Epoch 74/80\n",
      "36/36 [==============================] - 0s 4ms/step - loss: 0.5269 - accuracy: 0.7080 - val_loss: 0.8796 - val_accuracy: 0.5762\n",
      "Epoch 75/80\n",
      "36/36 [==============================] - 0s 4ms/step - loss: 0.5182 - accuracy: 0.7104 - val_loss: 0.9791 - val_accuracy: 0.5706\n",
      "Epoch 76/80\n",
      "36/36 [==============================] - 0s 4ms/step - loss: 0.5151 - accuracy: 0.7222 - val_loss: 0.9696 - val_accuracy: 0.5568\n",
      "Epoch 77/80\n",
      "36/36 [==============================] - 0s 4ms/step - loss: 0.5270 - accuracy: 0.7270 - val_loss: 0.9549 - val_accuracy: 0.5734\n",
      "Epoch 78/80\n",
      "36/36 [==============================] - 0s 4ms/step - loss: 0.4920 - accuracy: 0.7281 - val_loss: 0.9785 - val_accuracy: 0.5817\n",
      "Epoch 79/80\n",
      "36/36 [==============================] - 0s 4ms/step - loss: 0.4917 - accuracy: 0.7305 - val_loss: 0.9796 - val_accuracy: 0.5734\n",
      "Epoch 80/80\n",
      "36/36 [==============================] - 0s 4ms/step - loss: 0.4868 - accuracy: 0.7506 - val_loss: 0.9971 - val_accuracy: 0.5568\n"
     ]
    }
   ],
   "source": [
    "# Dropoutのインポート\n",
    "from keras.layers import Dropout\n",
    "\n",
    "# ネットワークの各層のサイズの定義\n",
    "num_l1 = 100\n",
    "num_l2 = 20\n",
    "num_output = 1\n",
    "\n",
    "# Dropoutの割合の定義\n",
    "dropout_rate = 0.4\n",
    "\n",
    "# 以下、ネットワークを構築\n",
    "model = Sequential()\n",
    "# 第1層\n",
    "model.add(LSTM(units=num_l1, \n",
    "               activation='tanh', \n",
    "               batch_input_shape=(None, X_train_t.shape[1], X_train_t.shape[2])))\n",
    "model.add(Dropout(dropout_rate))\n",
    "# 第2層\n",
    "model.add(Dense(num_l2, activation='relu'))\n",
    "model.add(Dropout(dropout_rate))\n",
    "# 出力層\n",
    "model.add(Dense(num_output, activation='sigmoid'))\n",
    "# ネットワークのコンパイル\n",
    "model.compile(loss='binary_crossentropy', optimizer='adam', metrics=['accuracy'])\n",
    "\n",
    "# モデルの学習の実行（学習の完了までには数秒から数十秒ほど時間がかかります。）\n",
    "log = model.fit(x=X_train_t, y=Y_train_t, epochs=80, batch_size=24, validation_data=(X_valid_t, Y_valid_t))\n"
   ]
  },
  {
   "cell_type": "code",
   "execution_count": 102,
   "metadata": {},
   "outputs": [
    {
     "data": {
      "image/png": "[encoded data removed]",
      "text/plain": [
       "<Figure size 432x288 with 1 Axes>"
      ]
     },
     "metadata": {
      "needs_background": "light"
     },
     "output_type": "display_data"
    }
   ],
   "source": [
    "plt.plot(log.history['loss'], label='loss')\n",
    "plt.plot(log.history['val_loss'], label='val_loss')\n",
    "plt.legend(frameon=False)\n",
    "plt.xlabel(\"epochs\")\n",
    "plt.ylabel(\"crossentropy\")\n",
    "plt.show()"
   ]
  },
  {
   "cell_type": "code",
   "execution_count": 103,
   "metadata": {},
   "outputs": [
    {
     "name": "stdout",
     "output_type": "stream",
     "text": [
      "予測結果の先頭10件\n",
      "[[0.48689282]\n",
      " [0.03897387]\n",
      " [0.07621431]\n",
      " [0.02888426]\n",
      " [0.5375832 ]\n",
      " [0.57755876]\n",
      " [0.89143896]\n",
      " [0.7047397 ]\n",
      " [0.67384434]\n",
      " [0.673337  ]]\n",
      "丸め込んだ予測結果の先頭10件\n",
      "[[0.]\n",
      " [0.]\n",
      " [0.]\n",
      " [0.]\n",
      " [1.]\n",
      " [1.]\n",
      " [1.]\n",
      " [1.]\n",
      " [1.]\n",
      " [1.]]\n",
      "評価データの正解率: 0.5241635687732342\n"
     ]
    }
   ],
   "source": [
    "from sklearn.metrics import accuracy_score\n",
    "\n",
    "# 評価データの予測結果の算出\n",
    "pred_prob = model.predict(X_test_t)\n",
    "\n",
    "# 予測結果の先頭10件を確認\n",
    "print('予測結果の先頭10件')\n",
    "print(pred_prob[:10])\n",
    "\n",
    "# 評価データの予測結果を0もしくは1に丸め込み\n",
    "pred = np.round(pred_prob)\n",
    "\n",
    "# 丸め込んだ予測結果の先頭10件を確認\n",
    "print('丸め込んだ予測結果の先頭10件')\n",
    "print(pred[:10])\n",
    "\n",
    "# 評価データの正解率の計算\n",
    "accuracy = accuracy_score(y_true=Y_test_t, y_pred=pred)\n",
    "\n",
    "# 評価データの正解率の表示\n",
    "print('評価データの正解率:', accuracy)"
   ]
  },
  {
   "cell_type": "markdown",
   "metadata": {},
   "source": [
    "予測時に、LSTM及びDropout追加し行ったが、両方とも過学習を起こしてしまった。\n",
    "次回、前日と比較して株価が上昇 or 下降の2択ではなく、前日と比較して0～3%上昇 or 下降、3%以上上昇 or 下降と\n",
    "4択程増やし、再度予測検証を行う"
   ]
  }
 ],
 "metadata": {
  "kernelspec": {
   "display_name": "Python 3",
   "language": "python",
   "name": "python3"
  },
  "language_info": {
   "codemirror_mode": {
    "name": "ipython",
    "version": 3
   },
   "file_extension": ".py",
   "mimetype": "text/x-python",
   "name": "python",
   "nbconvert_exporter": "python",
   "pygments_lexer": "ipython3",
   "version": "3.8.3"
  }
 },
 "nbformat": 4,
 "nbformat_minor": 4
}
